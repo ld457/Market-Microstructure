{
 "cells": [
  {
   "cell_type": "markdown",
   "metadata": {},
   "source": [
    "## Lihua Dong (ld457)\n",
    "## Duo Sun (ds2324)\n",
    "## Ziming Zeng (zz494)"
   ]
  },
  {
   "cell_type": "code",
   "execution_count": 1,
   "metadata": {},
   "outputs": [],
   "source": [
    "import numpy as np\n",
    "import pandas as pd\n",
    "import scipy.linalg as sl\n",
    "import datetime\n",
    "import matplotlib.pyplot as plt\n",
    "import seaborn as sns\n",
    "import time\n",
    "sns.set()\n",
    "%matplotlib inline"
   ]
  },
  {
   "cell_type": "markdown",
   "metadata": {},
   "source": [
    "At stage 1, we chose Amazon to analyze. However, we found that the best bid-ask spread of it was too large in this exchange. Thus, we changed our stock in stage 2. At this stage, We chose Microsoft (MSFT) to analyze. We first rerun the code of stage 1 to access the limit order flow for Microsoft, which is stored in the file 'msft.csv'.\n",
    "\n",
    "Then we compute the best bid and best ask series for MSFT."
   ]
  },
  {
   "cell_type": "code",
   "execution_count": 2,
   "metadata": {},
   "outputs": [],
   "source": [
    "msft = pd.read_csv('msft.csv', index_col=0)"
   ]
  },
  {
   "cell_type": "code",
   "execution_count": 3,
   "metadata": {},
   "outputs": [
    {
     "data": {
      "text/html": [
       "<div>\n",
       "<style scoped>\n",
       "    .dataframe tbody tr th:only-of-type {\n",
       "        vertical-align: middle;\n",
       "    }\n",
       "\n",
       "    .dataframe tbody tr th {\n",
       "        vertical-align: top;\n",
       "    }\n",
       "\n",
       "    .dataframe thead th {\n",
       "        text-align: right;\n",
       "    }\n",
       "</style>\n",
       "<table border=\"1\" class=\"dataframe\">\n",
       "  <thead>\n",
       "    <tr style=\"text-align: right;\">\n",
       "      <th></th>\n",
       "      <th>order_id</th>\n",
       "      <th>order_size</th>\n",
       "      <th>order_type</th>\n",
       "      <th>price</th>\n",
       "      <th>side</th>\n",
       "      <th>symbol</th>\n",
       "      <th>time</th>\n",
       "      <th>standard_time</th>\n",
       "    </tr>\n",
       "  </thead>\n",
       "  <tbody>\n",
       "    <tr>\n",
       "      <th>93343</th>\n",
       "      <td>IT1KTC0000NB</td>\n",
       "      <td>10</td>\n",
       "      <td>A</td>\n",
       "      <td>90.20</td>\n",
       "      <td>S</td>\n",
       "      <td>MSFT</td>\n",
       "      <td>28262586</td>\n",
       "      <td>7:51:02.586</td>\n",
       "    </tr>\n",
       "    <tr>\n",
       "      <th>93344</th>\n",
       "      <td>IT1KTC0000NB</td>\n",
       "      <td>10</td>\n",
       "      <td>X</td>\n",
       "      <td>90.20</td>\n",
       "      <td>NaN</td>\n",
       "      <td>MSFT</td>\n",
       "      <td>28262586</td>\n",
       "      <td>7:51:02.586</td>\n",
       "    </tr>\n",
       "    <tr>\n",
       "      <th>94035</th>\n",
       "      <td>IT1KTC0000NE</td>\n",
       "      <td>10</td>\n",
       "      <td>A</td>\n",
       "      <td>90.17</td>\n",
       "      <td>B</td>\n",
       "      <td>MSFT</td>\n",
       "      <td>28282188</td>\n",
       "      <td>7:51:22.188</td>\n",
       "    </tr>\n",
       "    <tr>\n",
       "      <th>94036</th>\n",
       "      <td>IT1KTC0000NE</td>\n",
       "      <td>10</td>\n",
       "      <td>X</td>\n",
       "      <td>90.17</td>\n",
       "      <td>NaN</td>\n",
       "      <td>MSFT</td>\n",
       "      <td>28282188</td>\n",
       "      <td>7:51:22.188</td>\n",
       "    </tr>\n",
       "    <tr>\n",
       "      <th>94078</th>\n",
       "      <td>IT1KTC0000NF</td>\n",
       "      <td>10</td>\n",
       "      <td>A</td>\n",
       "      <td>90.20</td>\n",
       "      <td>S</td>\n",
       "      <td>MSFT</td>\n",
       "      <td>28283945</td>\n",
       "      <td>7:51:23.945</td>\n",
       "    </tr>\n",
       "  </tbody>\n",
       "</table>\n",
       "</div>"
      ],
      "text/plain": [
       "           order_id  order_size order_type  price side symbol      time  \\\n",
       "93343  IT1KTC0000NB          10          A  90.20    S   MSFT  28262586   \n",
       "93344  IT1KTC0000NB          10          X  90.20  NaN   MSFT  28262586   \n",
       "94035  IT1KTC0000NE          10          A  90.17    B   MSFT  28282188   \n",
       "94036  IT1KTC0000NE          10          X  90.17  NaN   MSFT  28282188   \n",
       "94078  IT1KTC0000NF          10          A  90.20    S   MSFT  28283945   \n",
       "\n",
       "      standard_time  \n",
       "93343   7:51:02.586  \n",
       "93344   7:51:02.586  \n",
       "94035   7:51:22.188  \n",
       "94036   7:51:22.188  \n",
       "94078   7:51:23.945  "
      ]
     },
     "execution_count": 3,
     "metadata": {},
     "output_type": "execute_result"
    }
   ],
   "source": [
    "msft.head()"
   ]
  },
  {
   "cell_type": "code",
   "execution_count": 4,
   "metadata": {},
   "outputs": [
    {
     "name": "stdout",
     "output_type": "stream",
     "text": [
      "CPU times: user 1min 46s, sys: 558 ms, total: 1min 47s\n",
      "Wall time: 1min 47s\n"
     ]
    }
   ],
   "source": [
    "%%time\n",
    "bid_price = []\n",
    "bid_id = []\n",
    "bid_size = []\n",
    "ask_price = []\n",
    "ask_id = []\n",
    "ask_size = []\n",
    "best_bid = pd.Series(index = msft.index)\n",
    "best_bid_vol = pd.Series(index = msft.index)\n",
    "best_ask = pd.Series(index = msft.index)\n",
    "best_ask_vol = pd.Series(index = msft.index)\n",
    "\n",
    "for idx, order in msft.iterrows():\n",
    "    \n",
    "    order_type = order['order_type']\n",
    "    order_id = order['order_id']\n",
    "    price = order['price']\n",
    "    size = order['order_size']\n",
    "    \n",
    "    if order_type == 'A':\n",
    "        \n",
    "        if order['side'] == 'B':\n",
    "            bid_price.append(price)\n",
    "            bid_id.append(order_id)\n",
    "            bid_size.append(size)\n",
    "        elif order['side'] == 'S':\n",
    "            ask_price.append(price)\n",
    "            ask_id.append(order_id)\n",
    "            ask_size.append(size)\n",
    "    \n",
    "    elif order_type == 'E' or order_type == 'X':\n",
    "        \n",
    "        try:\n",
    "            index = bid_id.index(order_id)\n",
    "            side = 1\n",
    "        except ValueError:\n",
    "            index = ask_id.index(order_id)\n",
    "            side = 0\n",
    "            \n",
    "        if side == 1:\n",
    "            bid_size[index] -= size\n",
    "            if bid_size[index] == 0:\n",
    "                bid_price.pop(index)\n",
    "                bid_id.pop(index)\n",
    "                bid_size.pop(index) \n",
    "        else:\n",
    "            ask_size[index] -= size\n",
    "            if ask_size[index] == 0:\n",
    "                ask_price.pop(index)\n",
    "                ask_id.pop(index)\n",
    "                ask_size.pop(index)\n",
    "    \n",
    "    if bid_price:\n",
    "        best_bid[idx] = max(bid_price)\n",
    "        volume = np.array(bid_size)[np.where(bid_price == np.max(bid_price))[0]].sum()\n",
    "        if volume != 0:\n",
    "            best_bid_vol[idx] = volume\n",
    "    \n",
    "    if ask_price:\n",
    "        best_ask[idx] = min(ask_price)\n",
    "        volume = np.array(ask_size)[np.where(ask_price == np.min(ask_price))[0]].sum()\n",
    "        if volume != 0:\n",
    "            best_ask_vol[idx] = volume"
   ]
  },
  {
   "cell_type": "markdown",
   "metadata": {},
   "source": [
    "## Compute the best bid and ask series for MSFT (minute resolution)"
   ]
  },
  {
   "cell_type": "code",
   "execution_count": 5,
   "metadata": {},
   "outputs": [
    {
     "name": "stdout",
     "output_type": "stream",
     "text": [
      "CPU times: user 3.25 s, sys: 119 ms, total: 3.37 s\n",
      "Wall time: 3.4 s\n"
     ]
    }
   ],
   "source": [
    "%%time\n",
    "freq = '1min'\n",
    "fmt = '%H:%M'\n",
    "time_loc = -7\n",
    "\n",
    "# If you want to use second resolution, uncomment the three lines below\n",
    "# freq = '1s'\n",
    "# fmt = '%H:%M:%S'\n",
    "# time_loc = -4\n",
    "\n",
    "order_time = msft['standard_time'].apply(lambda x: x[:time_loc])\n",
    "time_range = pd.date_range(order_time.iloc[0], order_time.iloc[-1], freq=freq).time\n",
    "order_time = pd.to_datetime(order_time, format=fmt).apply(lambda x: x.time())\n",
    "\n",
    "best_bid_ask = pd.DataFrame({'time': order_time, 'best_bid': best_bid, 'best_bid_vol': best_bid_vol,\n",
    "                             'best_ask': best_ask, 'best_ask_vol': best_ask_vol})\n",
    "# best_bid_ask = best_bid_ask.groupby('time').last().fillna(-1)\n",
    "best_bid_ask = best_bid_ask.groupby('time').apply(lambda x: x.iloc[-1])\n",
    "\n",
    "best_bid_ask_df = pd.DataFrame(index = time_range, columns=['best_bid', 'best_bid_vol', 'best_ask', 'best_ask_vol'])\n",
    "best_bid_ask_df.loc[best_bid_ask.index, 'best_bid'] = best_bid_ask['best_bid']\n",
    "best_bid_ask_df.loc[best_bid_ask.index, 'best_bid_vol'] = best_bid_ask['best_bid_vol']\n",
    "best_bid_ask_df.loc[best_bid_ask.index, 'best_ask'] = best_bid_ask['best_ask']\n",
    "best_bid_ask_df.loc[best_bid_ask.index, 'best_ask_vol'] = best_bid_ask['best_ask_vol']\n",
    "# best_bid_ask_df = best_bid_ask_df.fillna(method = 'ffill').replace(-1, np.nan)\n",
    "\n",
    "best_bid_ask_df = best_bid_ask_df.loc[datetime.time(9, 30): datetime.time(16, 0)]\n",
    "best_bid_ask_df.fillna(method='ffill', inplace=True)"
   ]
  },
  {
   "cell_type": "code",
   "execution_count": 6,
   "metadata": {},
   "outputs": [
    {
     "data": {
      "text/html": [
       "<div>\n",
       "<style scoped>\n",
       "    .dataframe tbody tr th:only-of-type {\n",
       "        vertical-align: middle;\n",
       "    }\n",
       "\n",
       "    .dataframe tbody tr th {\n",
       "        vertical-align: top;\n",
       "    }\n",
       "\n",
       "    .dataframe thead th {\n",
       "        text-align: right;\n",
       "    }\n",
       "</style>\n",
       "<table border=\"1\" class=\"dataframe\">\n",
       "  <thead>\n",
       "    <tr style=\"text-align: right;\">\n",
       "      <th></th>\n",
       "      <th>best_bid</th>\n",
       "      <th>best_bid_vol</th>\n",
       "      <th>best_ask</th>\n",
       "      <th>best_ask_vol</th>\n",
       "    </tr>\n",
       "  </thead>\n",
       "  <tbody>\n",
       "    <tr>\n",
       "      <th>09:30:00</th>\n",
       "      <td>89.38</td>\n",
       "      <td>100.0</td>\n",
       "      <td>89.88</td>\n",
       "      <td>100.0</td>\n",
       "    </tr>\n",
       "    <tr>\n",
       "      <th>09:31:00</th>\n",
       "      <td>89.96</td>\n",
       "      <td>100.0</td>\n",
       "      <td>90.05</td>\n",
       "      <td>100.0</td>\n",
       "    </tr>\n",
       "    <tr>\n",
       "      <th>09:32:00</th>\n",
       "      <td>90.25</td>\n",
       "      <td>155.0</td>\n",
       "      <td>90.35</td>\n",
       "      <td>100.0</td>\n",
       "    </tr>\n",
       "    <tr>\n",
       "      <th>09:33:00</th>\n",
       "      <td>90.52</td>\n",
       "      <td>55.0</td>\n",
       "      <td>90.61</td>\n",
       "      <td>55.0</td>\n",
       "    </tr>\n",
       "    <tr>\n",
       "      <th>09:34:00</th>\n",
       "      <td>90.21</td>\n",
       "      <td>155.0</td>\n",
       "      <td>90.30</td>\n",
       "      <td>155.0</td>\n",
       "    </tr>\n",
       "  </tbody>\n",
       "</table>\n",
       "</div>"
      ],
      "text/plain": [
       "          best_bid  best_bid_vol  best_ask  best_ask_vol\n",
       "09:30:00     89.38         100.0     89.88         100.0\n",
       "09:31:00     89.96         100.0     90.05         100.0\n",
       "09:32:00     90.25         155.0     90.35         100.0\n",
       "09:33:00     90.52          55.0     90.61          55.0\n",
       "09:34:00     90.21         155.0     90.30         155.0"
      ]
     },
     "execution_count": 6,
     "metadata": {},
     "output_type": "execute_result"
    }
   ],
   "source": [
    "# Best bid and ask series for MSFT (minute resolution)\n",
    "best_bid_ask_df.head()"
   ]
  },
  {
   "cell_type": "code",
   "execution_count": 7,
   "metadata": {},
   "outputs": [
    {
     "data": {
      "text/plain": [
       "(array([88., 89., 90., 91., 92., 93., 94., 95.]),\n",
       " <a list of 8 Text yticklabel objects>)"
      ]
     },
     "execution_count": 7,
     "metadata": {},
     "output_type": "execute_result"
    },
    {
     "data": {
      "image/png": "[encoded data removed]",
      "text/plain": [
       "<Figure size 1440x432 with 1 Axes>"
      ]
     },
     "metadata": {},
     "output_type": "display_data"
    }
   ],
   "source": [
    "# Plot the Best bid and ask series for MSFT\n",
    "best_bid_ask_df.loc[:,['best_bid', 'best_ask']].plot(figsize=(20,6), color = ['g', 'r'])\n",
    "plt.legend(fontsize=16)\n",
    "plt.xlabel('time', fontsize=16)\n",
    "plt.ylabel('price', fontsize=16)\n",
    "plt.xticks(fontsize=14)\n",
    "plt.yticks(fontsize=14)"
   ]
  },
  {
   "cell_type": "markdown",
   "metadata": {},
   "source": [
    "## Plot of the best bid volumes at each minute"
   ]
  },
  {
   "cell_type": "code",
   "execution_count": 8,
   "metadata": {},
   "outputs": [
    {
     "data": {
      "text/plain": [
       "<BarContainer object of 391 artists>"
      ]
     },
     "execution_count": 8,
     "metadata": {},
     "output_type": "execute_result"
    },
    {
     "data": {
      "image/png": "[encoded data removed]",
      "text/plain": [
       "<Figure size 864x576 with 1 Axes>"
      ]
     },
     "metadata": {},
     "output_type": "display_data"
    }
   ],
   "source": [
    "plt.figure(figsize=(12,8))\n",
    "plt.bar(best_bid_ask_df.best_bid_vol.index, best_bid_ask_df.best_bid_vol, edgecolor='blue')"
   ]
  },
  {
   "cell_type": "markdown",
   "metadata": {},
   "source": [
    "In order to compute the steady probabilities for the best bid volumes, we need to first compute the transition matrix for the best bid volumes. Then we calculate the eigvalues and eigenvectors for the matrix. The vector of steady probabilities is the eigenvector that corresponds to the largest eigenvalues. We also normalized that eigenvector by the sum of it in order to ensure the sum of the steady probabilities is 1. "
   ]
  },
  {
   "cell_type": "markdown",
   "metadata": {},
   "source": [
    "## Bid steady-state transition probabilities for the entire day"
   ]
  },
  {
   "cell_type": "code",
   "execution_count": 9,
   "metadata": {},
   "outputs": [
    {
     "name": "stdout",
     "output_type": "stream",
     "text": [
      "CPU times: user 219 ms, sys: 31.5 ms, total: 251 ms\n",
      "Wall time: 290 ms\n"
     ]
    }
   ],
   "source": [
    "%%time\n",
    "\n",
    "unique_bid_vol = best_bid_ask_df['best_bid_vol'].unique()\n",
    "unique_bid_vol = np.append(unique_bid_vol, [0])\n",
    "unique_bid_vol.sort()\n",
    "bid_mat = pd.DataFrame(0, index=unique_bid_vol, columns=unique_bid_vol)\n",
    "\n",
    "bid_vol_list = best_bid_ask_df.best_bid_vol\n",
    "for i in range(len(bid_vol_list)-1):\n",
    "    bid_mat.loc[bid_vol_list[i], bid_vol_list[i+1]] += 1\n",
    "    \n",
    "bid_mat.loc[0, bid_vol_list[0]] += 1\n",
    "bid_mat.loc[bid_vol_list[-1], 0] += 1\n",
    "bid_mat = bid_mat.div(bid_mat.sum(axis=1), axis=0)"
   ]
  },
  {
   "cell_type": "code",
   "execution_count": 10,
   "metadata": {},
   "outputs": [
    {
     "data": {
      "text/html": [
       "<div>\n",
       "<style scoped>\n",
       "    .dataframe tbody tr th:only-of-type {\n",
       "        vertical-align: middle;\n",
       "    }\n",
       "\n",
       "    .dataframe tbody tr th {\n",
       "        vertical-align: top;\n",
       "    }\n",
       "\n",
       "    .dataframe thead th {\n",
       "        text-align: right;\n",
       "    }\n",
       "</style>\n",
       "<table border=\"1\" class=\"dataframe\">\n",
       "  <thead>\n",
       "    <tr style=\"text-align: right;\">\n",
       "      <th></th>\n",
       "      <th>steady state</th>\n",
       "    </tr>\n",
       "  </thead>\n",
       "  <tbody>\n",
       "    <tr>\n",
       "      <th>100.0</th>\n",
       "      <td>0.482143</td>\n",
       "    </tr>\n",
       "    <tr>\n",
       "      <th>200.0</th>\n",
       "      <td>0.178571</td>\n",
       "    </tr>\n",
       "    <tr>\n",
       "      <th>300.0</th>\n",
       "      <td>0.071429</td>\n",
       "    </tr>\n",
       "    <tr>\n",
       "      <th>55.0</th>\n",
       "      <td>0.058673</td>\n",
       "    </tr>\n",
       "    <tr>\n",
       "      <th>310.0</th>\n",
       "      <td>0.053571</td>\n",
       "    </tr>\n",
       "    <tr>\n",
       "      <th>400.0</th>\n",
       "      <td>0.030612</td>\n",
       "    </tr>\n",
       "    <tr>\n",
       "      <th>155.0</th>\n",
       "      <td>0.025510</td>\n",
       "    </tr>\n",
       "    <tr>\n",
       "      <th>500.0</th>\n",
       "      <td>0.017857</td>\n",
       "    </tr>\n",
       "    <tr>\n",
       "      <th>210.0</th>\n",
       "      <td>0.015306</td>\n",
       "    </tr>\n",
       "    <tr>\n",
       "      <th>490.0</th>\n",
       "      <td>0.010204</td>\n",
       "    </tr>\n",
       "    <tr>\n",
       "      <th>600.0</th>\n",
       "      <td>0.007653</td>\n",
       "    </tr>\n",
       "    <tr>\n",
       "      <th>390.0</th>\n",
       "      <td>0.007653</td>\n",
       "    </tr>\n",
       "    <tr>\n",
       "      <th>700.0</th>\n",
       "      <td>0.007653</td>\n",
       "    </tr>\n",
       "    <tr>\n",
       "      <th>510.0</th>\n",
       "      <td>0.002551</td>\n",
       "    </tr>\n",
       "    <tr>\n",
       "      <th>3.0</th>\n",
       "      <td>0.002551</td>\n",
       "    </tr>\n",
       "    <tr>\n",
       "      <th>110.0</th>\n",
       "      <td>0.002551</td>\n",
       "    </tr>\n",
       "    <tr>\n",
       "      <th>106.0</th>\n",
       "      <td>0.002551</td>\n",
       "    </tr>\n",
       "    <tr>\n",
       "      <th>150.0</th>\n",
       "      <td>0.002551</td>\n",
       "    </tr>\n",
       "    <tr>\n",
       "      <th>255.0</th>\n",
       "      <td>0.002551</td>\n",
       "    </tr>\n",
       "    <tr>\n",
       "      <th>259.0</th>\n",
       "      <td>0.002551</td>\n",
       "    </tr>\n",
       "    <tr>\n",
       "      <th>1200.0</th>\n",
       "      <td>0.002551</td>\n",
       "    </tr>\n",
       "    <tr>\n",
       "      <th>410.0</th>\n",
       "      <td>0.002551</td>\n",
       "    </tr>\n",
       "    <tr>\n",
       "      <th>800.0</th>\n",
       "      <td>0.002551</td>\n",
       "    </tr>\n",
       "    <tr>\n",
       "      <th>90.0</th>\n",
       "      <td>0.002551</td>\n",
       "    </tr>\n",
       "    <tr>\n",
       "      <th>1000.0</th>\n",
       "      <td>0.002551</td>\n",
       "    </tr>\n",
       "    <tr>\n",
       "      <th>0.0</th>\n",
       "      <td>0.002551</td>\n",
       "    </tr>\n",
       "  </tbody>\n",
       "</table>\n",
       "</div>"
      ],
      "text/plain": [
       "        steady state\n",
       "100.0       0.482143\n",
       "200.0       0.178571\n",
       "300.0       0.071429\n",
       "55.0        0.058673\n",
       "310.0       0.053571\n",
       "400.0       0.030612\n",
       "155.0       0.025510\n",
       "500.0       0.017857\n",
       "210.0       0.015306\n",
       "490.0       0.010204\n",
       "600.0       0.007653\n",
       "390.0       0.007653\n",
       "700.0       0.007653\n",
       "510.0       0.002551\n",
       "3.0         0.002551\n",
       "110.0       0.002551\n",
       "106.0       0.002551\n",
       "150.0       0.002551\n",
       "255.0       0.002551\n",
       "259.0       0.002551\n",
       "1200.0      0.002551\n",
       "410.0       0.002551\n",
       "800.0       0.002551\n",
       "90.0        0.002551\n",
       "1000.0      0.002551\n",
       "0.0         0.002551"
      ]
     },
     "execution_count": 10,
     "metadata": {},
     "output_type": "execute_result"
    }
   ],
   "source": [
    "eig_value, eig_vec, _ = sl.eig(bid_mat, left=True)\n",
    "steady_prob = pd.DataFrame(np.real(eig_vec[:,eig_value.argmax()]), index=unique_bid_vol, columns=['steady state'])\n",
    "steady_prob = steady_prob / steady_prob.sum()\n",
    "steady_prob.sort_values('steady state', ascending=False)"
   ]
  },
  {
   "cell_type": "code",
   "execution_count": 11,
   "metadata": {},
   "outputs": [
    {
     "name": "stdout",
     "output_type": "stream",
     "text": [
      "The best bid volume with largest steady probability: 100.0\n"
     ]
    }
   ],
   "source": [
    "print('The best bid volume with largest steady probability:', steady_prob['steady state'].idxmax())"
   ]
  },
  {
   "cell_type": "markdown",
   "metadata": {},
   "source": [
    "## Bid steady-state transition probabilities from 10am-12pm"
   ]
  },
  {
   "cell_type": "code",
   "execution_count": 12,
   "metadata": {},
   "outputs": [
    {
     "name": "stdout",
     "output_type": "stream",
     "text": [
      "CPU times: user 42.1 ms, sys: 1.65 ms, total: 43.7 ms\n",
      "Wall time: 46 ms\n"
     ]
    }
   ],
   "source": [
    "%%time\n",
    "temp = best_bid_ask_df.loc[datetime.time(10, 0):datetime.time(12, 0)]\n",
    "unique_bid_vol = temp['best_bid_vol'].unique()\n",
    "# unique_bid_vol = np.append(unique_bid_vol, [0])\n",
    "unique_bid_vol.sort()\n",
    "bid_mat = pd.DataFrame(0, index=unique_bid_vol, columns=unique_bid_vol)\n",
    "\n",
    "bid_vol_list = temp.best_bid_vol\n",
    "for i in range(len(bid_vol_list)-1):\n",
    "    bid_mat.loc[bid_vol_list[i], bid_vol_list[i+1]] += 1\n",
    "\n",
    "# bid_mat.loc[0, bid_vol_list[0]] += 1\n",
    "# bid_mat.loc[bid_vol_list[-1], 0] += 1\n",
    "bid_mat = bid_mat.div(bid_mat.sum(axis=1), axis=0)\n"
   ]
  },
  {
   "cell_type": "code",
   "execution_count": 13,
   "metadata": {},
   "outputs": [
    {
     "data": {
      "text/html": [
       "<div>\n",
       "<style scoped>\n",
       "    .dataframe tbody tr th:only-of-type {\n",
       "        vertical-align: middle;\n",
       "    }\n",
       "\n",
       "    .dataframe tbody tr th {\n",
       "        vertical-align: top;\n",
       "    }\n",
       "\n",
       "    .dataframe thead th {\n",
       "        text-align: right;\n",
       "    }\n",
       "</style>\n",
       "<table border=\"1\" class=\"dataframe\">\n",
       "  <thead>\n",
       "    <tr style=\"text-align: right;\">\n",
       "      <th></th>\n",
       "      <th>steady state</th>\n",
       "    </tr>\n",
       "  </thead>\n",
       "  <tbody>\n",
       "    <tr>\n",
       "      <th>100.0</th>\n",
       "      <td>0.568851</td>\n",
       "    </tr>\n",
       "    <tr>\n",
       "      <th>200.0</th>\n",
       "      <td>0.256818</td>\n",
       "    </tr>\n",
       "    <tr>\n",
       "      <th>310.0</th>\n",
       "      <td>0.043758</td>\n",
       "    </tr>\n",
       "    <tr>\n",
       "      <th>400.0</th>\n",
       "      <td>0.034688</td>\n",
       "    </tr>\n",
       "    <tr>\n",
       "      <th>55.0</th>\n",
       "      <td>0.026255</td>\n",
       "    </tr>\n",
       "    <tr>\n",
       "      <th>300.0</th>\n",
       "      <td>0.025873</td>\n",
       "    </tr>\n",
       "    <tr>\n",
       "      <th>155.0</th>\n",
       "      <td>0.008752</td>\n",
       "    </tr>\n",
       "    <tr>\n",
       "      <th>106.0</th>\n",
       "      <td>0.008752</td>\n",
       "    </tr>\n",
       "    <tr>\n",
       "      <th>259.0</th>\n",
       "      <td>0.008752</td>\n",
       "    </tr>\n",
       "    <tr>\n",
       "      <th>410.0</th>\n",
       "      <td>0.008752</td>\n",
       "    </tr>\n",
       "    <tr>\n",
       "      <th>490.0</th>\n",
       "      <td>0.008752</td>\n",
       "    </tr>\n",
       "    <tr>\n",
       "      <th>255.0</th>\n",
       "      <td>0.000000</td>\n",
       "    </tr>\n",
       "  </tbody>\n",
       "</table>\n",
       "</div>"
      ],
      "text/plain": [
       "       steady state\n",
       "100.0      0.568851\n",
       "200.0      0.256818\n",
       "310.0      0.043758\n",
       "400.0      0.034688\n",
       "55.0       0.026255\n",
       "300.0      0.025873\n",
       "155.0      0.008752\n",
       "106.0      0.008752\n",
       "259.0      0.008752\n",
       "410.0      0.008752\n",
       "490.0      0.008752\n",
       "255.0      0.000000"
      ]
     },
     "execution_count": 13,
     "metadata": {},
     "output_type": "execute_result"
    }
   ],
   "source": [
    "eig_value, eig_vec, _ = sl.eig(bid_mat, left=True)\n",
    "steady_prob = pd.DataFrame(np.real(eig_vec[:,eig_value.argmax()]), index=unique_bid_vol, columns=['steady state'])\n",
    "steady_prob = steady_prob / steady_prob.sum()\n",
    "steady_prob.sort_values('steady state', ascending=False)"
   ]
  },
  {
   "cell_type": "code",
   "execution_count": 14,
   "metadata": {},
   "outputs": [
    {
     "name": "stdout",
     "output_type": "stream",
     "text": [
      "The best bid volume with largest steady probability: 100.0\n"
     ]
    }
   ],
   "source": [
    "print('The best bid volume with largest steady probability:', steady_prob['steady state'].idxmax())"
   ]
  },
  {
   "cell_type": "markdown",
   "metadata": {},
   "source": [
    "## Bid steady-state transition probabilities from 12pm-2pm"
   ]
  },
  {
   "cell_type": "code",
   "execution_count": 15,
   "metadata": {},
   "outputs": [
    {
     "name": "stdout",
     "output_type": "stream",
     "text": [
      "CPU times: user 41.5 ms, sys: 1.66 ms, total: 43.2 ms\n",
      "Wall time: 43.6 ms\n"
     ]
    }
   ],
   "source": [
    "%%time\n",
    "temp = best_bid_ask_df.loc[datetime.time(12, 0):datetime.time(14, 0)]\n",
    "unique_bid_vol = temp['best_bid_vol'].unique()\n",
    "# unique_bid_vol = np.append(unique_bid_vol, [0])\n",
    "unique_bid_vol.sort()\n",
    "bid_mat = pd.DataFrame(0, index=unique_bid_vol, columns=unique_bid_vol)\n",
    "\n",
    "bid_vol_list = temp.best_bid_vol\n",
    "for i in range(len(bid_vol_list)-1):\n",
    "    bid_mat.loc[bid_vol_list[i], bid_vol_list[i+1]] += 1\n",
    "    \n",
    "# bid_mat.loc[0, bid_vol_list[0]] += 1\n",
    "# bid_mat.loc[bid_vol_list[-1], 0] += 1\n",
    "bid_mat = bid_mat.div(bid_mat.sum(axis=1), axis=0)"
   ]
  },
  {
   "cell_type": "code",
   "execution_count": 16,
   "metadata": {},
   "outputs": [
    {
     "data": {
      "text/html": [
       "<div>\n",
       "<style scoped>\n",
       "    .dataframe tbody tr th:only-of-type {\n",
       "        vertical-align: middle;\n",
       "    }\n",
       "\n",
       "    .dataframe tbody tr th {\n",
       "        vertical-align: top;\n",
       "    }\n",
       "\n",
       "    .dataframe thead th {\n",
       "        text-align: right;\n",
       "    }\n",
       "</style>\n",
       "<table border=\"1\" class=\"dataframe\">\n",
       "  <thead>\n",
       "    <tr style=\"text-align: right;\">\n",
       "      <th></th>\n",
       "      <th>steady state</th>\n",
       "    </tr>\n",
       "  </thead>\n",
       "  <tbody>\n",
       "    <tr>\n",
       "      <th>100.0</th>\n",
       "      <td>0.541444</td>\n",
       "    </tr>\n",
       "    <tr>\n",
       "      <th>200.0</th>\n",
       "      <td>0.141399</td>\n",
       "    </tr>\n",
       "    <tr>\n",
       "      <th>300.0</th>\n",
       "      <td>0.091868</td>\n",
       "    </tr>\n",
       "    <tr>\n",
       "      <th>310.0</th>\n",
       "      <td>0.050443</td>\n",
       "    </tr>\n",
       "    <tr>\n",
       "      <th>400.0</th>\n",
       "      <td>0.042205</td>\n",
       "    </tr>\n",
       "    <tr>\n",
       "      <th>55.0</th>\n",
       "      <td>0.032815</td>\n",
       "    </tr>\n",
       "    <tr>\n",
       "      <th>490.0</th>\n",
       "      <td>0.024782</td>\n",
       "    </tr>\n",
       "    <tr>\n",
       "      <th>155.0</th>\n",
       "      <td>0.016407</td>\n",
       "    </tr>\n",
       "    <tr>\n",
       "      <th>210.0</th>\n",
       "      <td>0.009187</td>\n",
       "    </tr>\n",
       "    <tr>\n",
       "      <th>3.0</th>\n",
       "      <td>0.008318</td>\n",
       "    </tr>\n",
       "    <tr>\n",
       "      <th>510.0</th>\n",
       "      <td>0.008318</td>\n",
       "    </tr>\n",
       "    <tr>\n",
       "      <th>150.0</th>\n",
       "      <td>0.008204</td>\n",
       "    </tr>\n",
       "    <tr>\n",
       "      <th>390.0</th>\n",
       "      <td>0.008204</td>\n",
       "    </tr>\n",
       "    <tr>\n",
       "      <th>500.0</th>\n",
       "      <td>0.008204</td>\n",
       "    </tr>\n",
       "    <tr>\n",
       "      <th>600.0</th>\n",
       "      <td>0.008204</td>\n",
       "    </tr>\n",
       "  </tbody>\n",
       "</table>\n",
       "</div>"
      ],
      "text/plain": [
       "       steady state\n",
       "100.0      0.541444\n",
       "200.0      0.141399\n",
       "300.0      0.091868\n",
       "310.0      0.050443\n",
       "400.0      0.042205\n",
       "55.0       0.032815\n",
       "490.0      0.024782\n",
       "155.0      0.016407\n",
       "210.0      0.009187\n",
       "3.0        0.008318\n",
       "510.0      0.008318\n",
       "150.0      0.008204\n",
       "390.0      0.008204\n",
       "500.0      0.008204\n",
       "600.0      0.008204"
      ]
     },
     "execution_count": 16,
     "metadata": {},
     "output_type": "execute_result"
    }
   ],
   "source": [
    "eig_value, eig_vec, _ = sl.eig(bid_mat, left=True)\n",
    "steady_prob = pd.DataFrame(np.real(eig_vec[:,eig_value.argmax()]), index=unique_bid_vol, columns=['steady state'])\n",
    "steady_prob = steady_prob / steady_prob.sum()\n",
    "steady_prob.sort_values('steady state', ascending=False)"
   ]
  },
  {
   "cell_type": "code",
   "execution_count": 17,
   "metadata": {},
   "outputs": [
    {
     "name": "stdout",
     "output_type": "stream",
     "text": [
      "The best bid volume with largest steady probability: 100.0\n"
     ]
    }
   ],
   "source": [
    "print('The best bid volume with largest steady probability:', steady_prob['steady state'].idxmax())"
   ]
  },
  {
   "cell_type": "markdown",
   "metadata": {},
   "source": [
    "## Bid steady-state transition probabilities from 2pm-4pm"
   ]
  },
  {
   "cell_type": "code",
   "execution_count": 18,
   "metadata": {},
   "outputs": [
    {
     "name": "stdout",
     "output_type": "stream",
     "text": [
      "CPU times: user 41.8 ms, sys: 1.59 ms, total: 43.3 ms\n",
      "Wall time: 44.2 ms\n"
     ]
    }
   ],
   "source": [
    "%%time\n",
    "temp = best_bid_ask_df.loc[datetime.time(14, 0):datetime.time(16, 0)]\n",
    "unique_bid_vol = temp['best_bid_vol'].unique()\n",
    "unique_bid_vol = np.append(unique_bid_vol, [0])\n",
    "unique_bid_vol.sort()\n",
    "bid_mat = pd.DataFrame(0, index=unique_bid_vol, columns=unique_bid_vol)\n",
    "\n",
    "bid_vol_list = temp.best_bid_vol\n",
    "for i in range(len(bid_vol_list)-1):\n",
    "    bid_mat.loc[bid_vol_list[i], bid_vol_list[i+1]] += 1\n",
    "    \n",
    "bid_mat.loc[0, bid_vol_list[0]] += 1\n",
    "bid_mat.loc[bid_vol_list[-1], 0] += 1\n",
    "bid_mat = bid_mat.div(bid_mat.sum(axis=1), axis=0)"
   ]
  },
  {
   "cell_type": "code",
   "execution_count": 19,
   "metadata": {},
   "outputs": [
    {
     "data": {
      "text/html": [
       "<div>\n",
       "<style scoped>\n",
       "    .dataframe tbody tr th:only-of-type {\n",
       "        vertical-align: middle;\n",
       "    }\n",
       "\n",
       "    .dataframe tbody tr th {\n",
       "        vertical-align: top;\n",
       "    }\n",
       "\n",
       "    .dataframe thead th {\n",
       "        text-align: right;\n",
       "    }\n",
       "</style>\n",
       "<table border=\"1\" class=\"dataframe\">\n",
       "  <thead>\n",
       "    <tr style=\"text-align: right;\">\n",
       "      <th></th>\n",
       "      <th>steady state</th>\n",
       "    </tr>\n",
       "  </thead>\n",
       "  <tbody>\n",
       "    <tr>\n",
       "      <th>100.0</th>\n",
       "      <td>0.393443</td>\n",
       "    </tr>\n",
       "    <tr>\n",
       "      <th>200.0</th>\n",
       "      <td>0.180328</td>\n",
       "    </tr>\n",
       "    <tr>\n",
       "      <th>300.0</th>\n",
       "      <td>0.122951</td>\n",
       "    </tr>\n",
       "    <tr>\n",
       "      <th>310.0</th>\n",
       "      <td>0.081967</td>\n",
       "    </tr>\n",
       "    <tr>\n",
       "      <th>500.0</th>\n",
       "      <td>0.049180</td>\n",
       "    </tr>\n",
       "    <tr>\n",
       "      <th>210.0</th>\n",
       "      <td>0.040984</td>\n",
       "    </tr>\n",
       "    <tr>\n",
       "      <th>400.0</th>\n",
       "      <td>0.024590</td>\n",
       "    </tr>\n",
       "    <tr>\n",
       "      <th>700.0</th>\n",
       "      <td>0.024590</td>\n",
       "    </tr>\n",
       "    <tr>\n",
       "      <th>600.0</th>\n",
       "      <td>0.016393</td>\n",
       "    </tr>\n",
       "    <tr>\n",
       "      <th>390.0</th>\n",
       "      <td>0.016393</td>\n",
       "    </tr>\n",
       "    <tr>\n",
       "      <th>110.0</th>\n",
       "      <td>0.008197</td>\n",
       "    </tr>\n",
       "    <tr>\n",
       "      <th>90.0</th>\n",
       "      <td>0.008197</td>\n",
       "    </tr>\n",
       "    <tr>\n",
       "      <th>1200.0</th>\n",
       "      <td>0.008197</td>\n",
       "    </tr>\n",
       "    <tr>\n",
       "      <th>800.0</th>\n",
       "      <td>0.008197</td>\n",
       "    </tr>\n",
       "    <tr>\n",
       "      <th>1000.0</th>\n",
       "      <td>0.008197</td>\n",
       "    </tr>\n",
       "    <tr>\n",
       "      <th>0.0</th>\n",
       "      <td>0.008197</td>\n",
       "    </tr>\n",
       "  </tbody>\n",
       "</table>\n",
       "</div>"
      ],
      "text/plain": [
       "        steady state\n",
       "100.0       0.393443\n",
       "200.0       0.180328\n",
       "300.0       0.122951\n",
       "310.0       0.081967\n",
       "500.0       0.049180\n",
       "210.0       0.040984\n",
       "400.0       0.024590\n",
       "700.0       0.024590\n",
       "600.0       0.016393\n",
       "390.0       0.016393\n",
       "110.0       0.008197\n",
       "90.0        0.008197\n",
       "1200.0      0.008197\n",
       "800.0       0.008197\n",
       "1000.0      0.008197\n",
       "0.0         0.008197"
      ]
     },
     "execution_count": 19,
     "metadata": {},
     "output_type": "execute_result"
    }
   ],
   "source": [
    "eig_value, eig_vec, _ = sl.eig(bid_mat, left=True)\n",
    "steady_prob = pd.DataFrame(np.real(eig_vec[:,eig_value.argmax()]), index=unique_bid_vol, columns=['steady state'])\n",
    "steady_prob = steady_prob / steady_prob.sum()\n",
    "steady_prob.sort_values('steady state', ascending=False)"
   ]
  },
  {
   "cell_type": "code",
   "execution_count": 20,
   "metadata": {},
   "outputs": [
    {
     "name": "stdout",
     "output_type": "stream",
     "text": [
      "The best bid volume with largest steady probability: 100.0\n"
     ]
    }
   ],
   "source": [
    "print('The best bid volume with largest steady probability:', steady_prob['steady state'].idxmax())"
   ]
  },
  {
   "cell_type": "markdown",
   "metadata": {},
   "source": [
    "## Summary for best bid volume steady probabilities\n",
    "\n",
    "There are no deviations from one 2-hour block to next because the best bid volume with the largest steady probability is 100 for all three block and the entire day."
   ]
  },
  {
   "cell_type": "markdown",
   "metadata": {},
   "source": [
    "## We also compute the steady probabilities for best ask volumes"
   ]
  },
  {
   "cell_type": "markdown",
   "metadata": {},
   "source": [
    "## Ask steady-state transition probabilities for the entire day"
   ]
  },
  {
   "cell_type": "code",
   "execution_count": 21,
   "metadata": {},
   "outputs": [
    {
     "name": "stdout",
     "output_type": "stream",
     "text": [
      "CPU times: user 115 ms, sys: 2.51 ms, total: 118 ms\n",
      "Wall time: 121 ms\n"
     ]
    }
   ],
   "source": [
    "%%time\n",
    "unique_ask_vol = best_bid_ask_df['best_ask_vol'].unique()\n",
    "# unique_ask_vol = np.append(unique_ask_vol, [0])\n",
    "unique_ask_vol.sort()\n",
    "ask_mat = pd.DataFrame(0, index=unique_ask_vol, columns=unique_ask_vol)\n",
    "\n",
    "ask_vol_list = best_bid_ask_df.best_ask_vol\n",
    "for i in range(len(ask_vol_list)-1):\n",
    "    ask_mat.loc[ask_vol_list[i], ask_vol_list[i+1]] += 1\n",
    "    \n",
    "# ask_mat.loc[0, ask_vol_list[0]] += 1\n",
    "# ask_mat.loc[ask_vol_list[-1], 0] += 1\n",
    "ask_mat = ask_mat.div(ask_mat.sum(axis=1), axis=0)"
   ]
  },
  {
   "cell_type": "code",
   "execution_count": 22,
   "metadata": {},
   "outputs": [
    {
     "data": {
      "text/html": [
       "<div>\n",
       "<style scoped>\n",
       "    .dataframe tbody tr th:only-of-type {\n",
       "        vertical-align: middle;\n",
       "    }\n",
       "\n",
       "    .dataframe tbody tr th {\n",
       "        vertical-align: top;\n",
       "    }\n",
       "\n",
       "    .dataframe thead th {\n",
       "        text-align: right;\n",
       "    }\n",
       "</style>\n",
       "<table border=\"1\" class=\"dataframe\">\n",
       "  <thead>\n",
       "    <tr style=\"text-align: right;\">\n",
       "      <th></th>\n",
       "      <th>steady state</th>\n",
       "    </tr>\n",
       "  </thead>\n",
       "  <tbody>\n",
       "    <tr>\n",
       "      <th>100.0</th>\n",
       "      <td>0.553846</td>\n",
       "    </tr>\n",
       "    <tr>\n",
       "      <th>200.0</th>\n",
       "      <td>0.156410</td>\n",
       "    </tr>\n",
       "    <tr>\n",
       "      <th>300.0</th>\n",
       "      <td>0.061538</td>\n",
       "    </tr>\n",
       "    <tr>\n",
       "      <th>310.0</th>\n",
       "      <td>0.051282</td>\n",
       "    </tr>\n",
       "    <tr>\n",
       "      <th>55.0</th>\n",
       "      <td>0.046154</td>\n",
       "    </tr>\n",
       "    <tr>\n",
       "      <th>400.0</th>\n",
       "      <td>0.023077</td>\n",
       "    </tr>\n",
       "    <tr>\n",
       "      <th>159.0</th>\n",
       "      <td>0.017949</td>\n",
       "    </tr>\n",
       "    <tr>\n",
       "      <th>210.0</th>\n",
       "      <td>0.015385</td>\n",
       "    </tr>\n",
       "    <tr>\n",
       "      <th>500.0</th>\n",
       "      <td>0.010256</td>\n",
       "    </tr>\n",
       "    <tr>\n",
       "      <th>410.0</th>\n",
       "      <td>0.007692</td>\n",
       "    </tr>\n",
       "    <tr>\n",
       "      <th>53.0</th>\n",
       "      <td>0.007692</td>\n",
       "    </tr>\n",
       "    <tr>\n",
       "      <th>90.0</th>\n",
       "      <td>0.007692</td>\n",
       "    </tr>\n",
       "    <tr>\n",
       "      <th>255.0</th>\n",
       "      <td>0.005128</td>\n",
       "    </tr>\n",
       "    <tr>\n",
       "      <th>155.0</th>\n",
       "      <td>0.005128</td>\n",
       "    </tr>\n",
       "    <tr>\n",
       "      <th>490.0</th>\n",
       "      <td>0.002564</td>\n",
       "    </tr>\n",
       "    <tr>\n",
       "      <th>272.0</th>\n",
       "      <td>0.002564</td>\n",
       "    </tr>\n",
       "    <tr>\n",
       "      <th>390.0</th>\n",
       "      <td>0.002564</td>\n",
       "    </tr>\n",
       "    <tr>\n",
       "      <th>38.0</th>\n",
       "      <td>0.002564</td>\n",
       "    </tr>\n",
       "    <tr>\n",
       "      <th>472.0</th>\n",
       "      <td>0.002564</td>\n",
       "    </tr>\n",
       "    <tr>\n",
       "      <th>510.0</th>\n",
       "      <td>0.002564</td>\n",
       "    </tr>\n",
       "    <tr>\n",
       "      <th>800.0</th>\n",
       "      <td>0.002564</td>\n",
       "    </tr>\n",
       "    <tr>\n",
       "      <th>160.0</th>\n",
       "      <td>0.002564</td>\n",
       "    </tr>\n",
       "    <tr>\n",
       "      <th>370.0</th>\n",
       "      <td>0.002564</td>\n",
       "    </tr>\n",
       "    <tr>\n",
       "      <th>1700.0</th>\n",
       "      <td>0.002564</td>\n",
       "    </tr>\n",
       "    <tr>\n",
       "      <th>110.0</th>\n",
       "      <td>0.002564</td>\n",
       "    </tr>\n",
       "    <tr>\n",
       "      <th>259.0</th>\n",
       "      <td>0.002564</td>\n",
       "    </tr>\n",
       "  </tbody>\n",
       "</table>\n",
       "</div>"
      ],
      "text/plain": [
       "        steady state\n",
       "100.0       0.553846\n",
       "200.0       0.156410\n",
       "300.0       0.061538\n",
       "310.0       0.051282\n",
       "55.0        0.046154\n",
       "400.0       0.023077\n",
       "159.0       0.017949\n",
       "210.0       0.015385\n",
       "500.0       0.010256\n",
       "410.0       0.007692\n",
       "53.0        0.007692\n",
       "90.0        0.007692\n",
       "255.0       0.005128\n",
       "155.0       0.005128\n",
       "490.0       0.002564\n",
       "272.0       0.002564\n",
       "390.0       0.002564\n",
       "38.0        0.002564\n",
       "472.0       0.002564\n",
       "510.0       0.002564\n",
       "800.0       0.002564\n",
       "160.0       0.002564\n",
       "370.0       0.002564\n",
       "1700.0      0.002564\n",
       "110.0       0.002564\n",
       "259.0       0.002564"
      ]
     },
     "execution_count": 22,
     "metadata": {},
     "output_type": "execute_result"
    }
   ],
   "source": [
    "eig_value, eig_vec, _ = sl.eig(ask_mat, left=True)\n",
    "steady_prob = pd.DataFrame(np.real(eig_vec[:,eig_value.argmax()]), index=unique_ask_vol, columns=['steady state'])\n",
    "steady_prob = steady_prob / steady_prob.sum()\n",
    "steady_prob.sort_values('steady state', ascending=False)"
   ]
  },
  {
   "cell_type": "code",
   "execution_count": 23,
   "metadata": {},
   "outputs": [
    {
     "name": "stdout",
     "output_type": "stream",
     "text": [
      "The best ask volume with largest steady probability: 100.0\n"
     ]
    }
   ],
   "source": [
    "print('The best ask volume with largest steady probability:', steady_prob['steady state'].idxmax())"
   ]
  },
  {
   "cell_type": "markdown",
   "metadata": {},
   "source": [
    "## Ask steady-state transition probabilities from 10am-12pm"
   ]
  },
  {
   "cell_type": "code",
   "execution_count": 24,
   "metadata": {},
   "outputs": [
    {
     "name": "stdout",
     "output_type": "stream",
     "text": [
      "CPU times: user 41.3 ms, sys: 1.45 ms, total: 42.8 ms\n",
      "Wall time: 45.9 ms\n"
     ]
    }
   ],
   "source": [
    "%%time\n",
    "temp = best_bid_ask_df.loc[datetime.time(10, 0):datetime.time(12, 0)]\n",
    "unique_ask_vol = temp['best_ask_vol'].unique()\n",
    "unique_ask_vol.sort()\n",
    "ask_mat = pd.DataFrame(0, index=unique_ask_vol, columns=unique_ask_vol)\n",
    "\n",
    "ask_vol_list = temp.best_ask_vol\n",
    "for i in range(len(ask_vol_list)-1):\n",
    "    ask_mat.loc[ask_vol_list[i], ask_vol_list[i+1]] += 1\n",
    "\n",
    "ask_mat = ask_mat.div(ask_mat.sum(axis=1), axis=0)"
   ]
  },
  {
   "cell_type": "code",
   "execution_count": 25,
   "metadata": {},
   "outputs": [
    {
     "data": {
      "text/html": [
       "<div>\n",
       "<style scoped>\n",
       "    .dataframe tbody tr th:only-of-type {\n",
       "        vertical-align: middle;\n",
       "    }\n",
       "\n",
       "    .dataframe tbody tr th {\n",
       "        vertical-align: top;\n",
       "    }\n",
       "\n",
       "    .dataframe thead th {\n",
       "        text-align: right;\n",
       "    }\n",
       "</style>\n",
       "<table border=\"1\" class=\"dataframe\">\n",
       "  <thead>\n",
       "    <tr style=\"text-align: right;\">\n",
       "      <th></th>\n",
       "      <th>steady state</th>\n",
       "    </tr>\n",
       "  </thead>\n",
       "  <tbody>\n",
       "    <tr>\n",
       "      <th>100.0</th>\n",
       "      <td>0.502664</td>\n",
       "    </tr>\n",
       "    <tr>\n",
       "      <th>200.0</th>\n",
       "      <td>0.219829</td>\n",
       "    </tr>\n",
       "    <tr>\n",
       "      <th>159.0</th>\n",
       "      <td>0.052120</td>\n",
       "    </tr>\n",
       "    <tr>\n",
       "      <th>300.0</th>\n",
       "      <td>0.044012</td>\n",
       "    </tr>\n",
       "    <tr>\n",
       "      <th>55.0</th>\n",
       "      <td>0.040537</td>\n",
       "    </tr>\n",
       "    <tr>\n",
       "      <th>310.0</th>\n",
       "      <td>0.033356</td>\n",
       "    </tr>\n",
       "    <tr>\n",
       "      <th>90.0</th>\n",
       "      <td>0.025365</td>\n",
       "    </tr>\n",
       "    <tr>\n",
       "      <th>410.0</th>\n",
       "      <td>0.024322</td>\n",
       "    </tr>\n",
       "    <tr>\n",
       "      <th>53.0</th>\n",
       "      <td>0.016215</td>\n",
       "    </tr>\n",
       "    <tr>\n",
       "      <th>259.0</th>\n",
       "      <td>0.008455</td>\n",
       "    </tr>\n",
       "    <tr>\n",
       "      <th>210.0</th>\n",
       "      <td>0.008455</td>\n",
       "    </tr>\n",
       "    <tr>\n",
       "      <th>500.0</th>\n",
       "      <td>0.008455</td>\n",
       "    </tr>\n",
       "    <tr>\n",
       "      <th>155.0</th>\n",
       "      <td>0.008107</td>\n",
       "    </tr>\n",
       "    <tr>\n",
       "      <th>400.0</th>\n",
       "      <td>0.008107</td>\n",
       "    </tr>\n",
       "  </tbody>\n",
       "</table>\n",
       "</div>"
      ],
      "text/plain": [
       "       steady state\n",
       "100.0      0.502664\n",
       "200.0      0.219829\n",
       "159.0      0.052120\n",
       "300.0      0.044012\n",
       "55.0       0.040537\n",
       "310.0      0.033356\n",
       "90.0       0.025365\n",
       "410.0      0.024322\n",
       "53.0       0.016215\n",
       "259.0      0.008455\n",
       "210.0      0.008455\n",
       "500.0      0.008455\n",
       "155.0      0.008107\n",
       "400.0      0.008107"
      ]
     },
     "execution_count": 25,
     "metadata": {},
     "output_type": "execute_result"
    }
   ],
   "source": [
    "eig_value, eig_vec, _ = sl.eig(ask_mat, left=True)\n",
    "steady_prob = pd.DataFrame(np.real(eig_vec[:,eig_value.argmax()]), index=unique_ask_vol, columns=['steady state'])\n",
    "steady_prob = steady_prob / steady_prob.sum()\n",
    "steady_prob.sort_values('steady state', ascending=False)"
   ]
  },
  {
   "cell_type": "code",
   "execution_count": 26,
   "metadata": {},
   "outputs": [
    {
     "name": "stdout",
     "output_type": "stream",
     "text": [
      "The best ask volume with largest steady probability: 100.0\n"
     ]
    }
   ],
   "source": [
    "print('The best ask volume with largest steady probability:', steady_prob['steady state'].idxmax())"
   ]
  },
  {
   "cell_type": "markdown",
   "metadata": {},
   "source": [
    "## Ask steady-state transition probabilities from 12pm-14pm"
   ]
  },
  {
   "cell_type": "code",
   "execution_count": 27,
   "metadata": {},
   "outputs": [
    {
     "name": "stdout",
     "output_type": "stream",
     "text": [
      "CPU times: user 42.4 ms, sys: 1.82 ms, total: 44.2 ms\n",
      "Wall time: 45.3 ms\n"
     ]
    }
   ],
   "source": [
    "%%time\n",
    "temp = best_bid_ask_df.loc[datetime.time(12, 0):datetime.time(14, 0)]\n",
    "unique_ask_vol = temp['best_ask_vol'].unique()\n",
    "unique_ask_vol.sort()\n",
    "ask_mat = pd.DataFrame(0, index=unique_ask_vol, columns=unique_ask_vol)\n",
    "\n",
    "ask_vol_list = temp.best_ask_vol\n",
    "for i in range(len(ask_vol_list)-1):\n",
    "    ask_mat.loc[ask_vol_list[i], ask_vol_list[i+1]] += 1\n",
    "\n",
    "ask_mat = ask_mat.div(ask_mat.sum(axis=1), axis=0)"
   ]
  },
  {
   "cell_type": "code",
   "execution_count": 28,
   "metadata": {},
   "outputs": [
    {
     "data": {
      "text/html": [
       "<div>\n",
       "<style scoped>\n",
       "    .dataframe tbody tr th:only-of-type {\n",
       "        vertical-align: middle;\n",
       "    }\n",
       "\n",
       "    .dataframe tbody tr th {\n",
       "        vertical-align: top;\n",
       "    }\n",
       "\n",
       "    .dataframe thead th {\n",
       "        text-align: right;\n",
       "    }\n",
       "</style>\n",
       "<table border=\"1\" class=\"dataframe\">\n",
       "  <thead>\n",
       "    <tr style=\"text-align: right;\">\n",
       "      <th></th>\n",
       "      <th>steady state</th>\n",
       "    </tr>\n",
       "  </thead>\n",
       "  <tbody>\n",
       "    <tr>\n",
       "      <th>100.0</th>\n",
       "      <td>0.720029</td>\n",
       "    </tr>\n",
       "    <tr>\n",
       "      <th>200.0</th>\n",
       "      <td>0.139124</td>\n",
       "    </tr>\n",
       "    <tr>\n",
       "      <th>310.0</th>\n",
       "      <td>0.041996</td>\n",
       "    </tr>\n",
       "    <tr>\n",
       "      <th>300.0</th>\n",
       "      <td>0.033022</td>\n",
       "    </tr>\n",
       "    <tr>\n",
       "      <th>210.0</th>\n",
       "      <td>0.025413</td>\n",
       "    </tr>\n",
       "    <tr>\n",
       "      <th>472.0</th>\n",
       "      <td>0.008471</td>\n",
       "    </tr>\n",
       "    <tr>\n",
       "      <th>500.0</th>\n",
       "      <td>0.008471</td>\n",
       "    </tr>\n",
       "    <tr>\n",
       "      <th>272.0</th>\n",
       "      <td>0.008471</td>\n",
       "    </tr>\n",
       "    <tr>\n",
       "      <th>510.0</th>\n",
       "      <td>0.008399</td>\n",
       "    </tr>\n",
       "    <tr>\n",
       "      <th>38.0</th>\n",
       "      <td>0.006604</td>\n",
       "    </tr>\n",
       "  </tbody>\n",
       "</table>\n",
       "</div>"
      ],
      "text/plain": [
       "       steady state\n",
       "100.0      0.720029\n",
       "200.0      0.139124\n",
       "310.0      0.041996\n",
       "300.0      0.033022\n",
       "210.0      0.025413\n",
       "472.0      0.008471\n",
       "500.0      0.008471\n",
       "272.0      0.008471\n",
       "510.0      0.008399\n",
       "38.0       0.006604"
      ]
     },
     "execution_count": 28,
     "metadata": {},
     "output_type": "execute_result"
    }
   ],
   "source": [
    "eig_value, eig_vec, _ = sl.eig(ask_mat, left=True)\n",
    "steady_prob = pd.DataFrame(np.real(eig_vec[:,eig_value.argmax()]), index=unique_ask_vol, columns=['steady state'])\n",
    "steady_prob = steady_prob / steady_prob.sum()\n",
    "steady_prob.sort_values('steady state', ascending=False)"
   ]
  },
  {
   "cell_type": "code",
   "execution_count": 29,
   "metadata": {},
   "outputs": [
    {
     "name": "stdout",
     "output_type": "stream",
     "text": [
      "The best ask volume with largest steady probability: 100.0\n"
     ]
    }
   ],
   "source": [
    "print('The best ask volume with largest steady probability:', steady_prob['steady state'].idxmax())"
   ]
  },
  {
   "cell_type": "markdown",
   "metadata": {},
   "source": [
    "## Ask steady-state transition probabilities from 14pm-16pm"
   ]
  },
  {
   "cell_type": "code",
   "execution_count": 30,
   "metadata": {},
   "outputs": [
    {
     "name": "stdout",
     "output_type": "stream",
     "text": [
      "CPU times: user 45.1 ms, sys: 1.75 ms, total: 46.9 ms\n",
      "Wall time: 49.5 ms\n"
     ]
    }
   ],
   "source": [
    "%%time\n",
    "temp = best_bid_ask_df.loc[datetime.time(14, 0):datetime.time(16, 0)]\n",
    "unique_ask_vol = temp['best_ask_vol'].unique()\n",
    "\n",
    "unique_ask_vol.sort()\n",
    "ask_mat = pd.DataFrame(0, index=unique_ask_vol, columns=unique_ask_vol)\n",
    "\n",
    "ask_vol_list = temp.best_ask_vol\n",
    "for i in range(len(ask_vol_list)-1):\n",
    "    ask_mat.loc[ask_vol_list[i], ask_vol_list[i+1]] += 1\n",
    "\n",
    "ask_mat = ask_mat.div(ask_mat.sum(axis=1), axis=0)"
   ]
  },
  {
   "cell_type": "code",
   "execution_count": 31,
   "metadata": {},
   "outputs": [
    {
     "data": {
      "text/html": [
       "<div>\n",
       "<style scoped>\n",
       "    .dataframe tbody tr th:only-of-type {\n",
       "        vertical-align: middle;\n",
       "    }\n",
       "\n",
       "    .dataframe tbody tr th {\n",
       "        vertical-align: top;\n",
       "    }\n",
       "\n",
       "    .dataframe thead th {\n",
       "        text-align: right;\n",
       "    }\n",
       "</style>\n",
       "<table border=\"1\" class=\"dataframe\">\n",
       "  <thead>\n",
       "    <tr style=\"text-align: right;\">\n",
       "      <th></th>\n",
       "      <th>steady state</th>\n",
       "    </tr>\n",
       "  </thead>\n",
       "  <tbody>\n",
       "    <tr>\n",
       "      <th>100.0</th>\n",
       "      <td>0.508333</td>\n",
       "    </tr>\n",
       "    <tr>\n",
       "      <th>300.0</th>\n",
       "      <td>0.125000</td>\n",
       "    </tr>\n",
       "    <tr>\n",
       "      <th>200.0</th>\n",
       "      <td>0.125000</td>\n",
       "    </tr>\n",
       "    <tr>\n",
       "      <th>310.0</th>\n",
       "      <td>0.091667</td>\n",
       "    </tr>\n",
       "    <tr>\n",
       "      <th>400.0</th>\n",
       "      <td>0.058333</td>\n",
       "    </tr>\n",
       "    <tr>\n",
       "      <th>210.0</th>\n",
       "      <td>0.016667</td>\n",
       "    </tr>\n",
       "    <tr>\n",
       "      <th>500.0</th>\n",
       "      <td>0.016667</td>\n",
       "    </tr>\n",
       "    <tr>\n",
       "      <th>370.0</th>\n",
       "      <td>0.008333</td>\n",
       "    </tr>\n",
       "    <tr>\n",
       "      <th>110.0</th>\n",
       "      <td>0.008333</td>\n",
       "    </tr>\n",
       "    <tr>\n",
       "      <th>1700.0</th>\n",
       "      <td>0.008333</td>\n",
       "    </tr>\n",
       "    <tr>\n",
       "      <th>390.0</th>\n",
       "      <td>0.008333</td>\n",
       "    </tr>\n",
       "    <tr>\n",
       "      <th>490.0</th>\n",
       "      <td>0.008333</td>\n",
       "    </tr>\n",
       "    <tr>\n",
       "      <th>800.0</th>\n",
       "      <td>0.008333</td>\n",
       "    </tr>\n",
       "    <tr>\n",
       "      <th>160.0</th>\n",
       "      <td>0.008333</td>\n",
       "    </tr>\n",
       "  </tbody>\n",
       "</table>\n",
       "</div>"
      ],
      "text/plain": [
       "        steady state\n",
       "100.0       0.508333\n",
       "300.0       0.125000\n",
       "200.0       0.125000\n",
       "310.0       0.091667\n",
       "400.0       0.058333\n",
       "210.0       0.016667\n",
       "500.0       0.016667\n",
       "370.0       0.008333\n",
       "110.0       0.008333\n",
       "1700.0      0.008333\n",
       "390.0       0.008333\n",
       "490.0       0.008333\n",
       "800.0       0.008333\n",
       "160.0       0.008333"
      ]
     },
     "execution_count": 31,
     "metadata": {},
     "output_type": "execute_result"
    }
   ],
   "source": [
    "eig_value, eig_vec, _ = sl.eig(ask_mat, left=True)\n",
    "steady_prob = pd.DataFrame(np.real(eig_vec[:,eig_value.argmax()]), index=unique_ask_vol, columns=['steady state'])\n",
    "steady_prob = steady_prob / steady_prob.sum()\n",
    "steady_prob.sort_values('steady state', ascending=False)"
   ]
  },
  {
   "cell_type": "code",
   "execution_count": 32,
   "metadata": {},
   "outputs": [
    {
     "name": "stdout",
     "output_type": "stream",
     "text": [
      "The best ask volume with largest steady probability: 100.0\n"
     ]
    }
   ],
   "source": [
    "print('The best ask volume with largest steady probability:', steady_prob['steady state'].idxmax())"
   ]
  },
  {
   "cell_type": "markdown",
   "metadata": {},
   "source": [
    "## Summary for best ask volume steady probabilities\n",
    "\n",
    "There are also no deviations from one 2-hour block to next because the best ask volume with the largest steady probability is 100 for all three block and the entire day."
   ]
  }
 ],
 "metadata": {
  "kernelspec": {
   "display_name": "Python 3",
   "language": "python",
   "name": "python3"
  },
  "language_info": {
   "codemirror_mode": {
    "name": "ipython",
    "version": 3
   },
   "file_extension": ".py",
   "mimetype": "text/x-python",
   "name": "python",
   "nbconvert_exporter": "python",
   "pygments_lexer": "ipython3",
   "version": "3.6.5"
  }
 },
 "nbformat": 4,
 "nbformat_minor": 2
}
