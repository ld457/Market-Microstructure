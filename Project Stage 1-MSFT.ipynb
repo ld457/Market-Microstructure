{
 "cells": [
  {
   "cell_type": "markdown",
   "metadata": {},
   "source": [
    "## Lihua Dong (ld457)\n",
    "## Duo Sun (ds2324)\n",
    "## Ziming Zeng (zz494)"
   ]
  },
  {
   "cell_type": "code",
   "execution_count": 1,
   "metadata": {},
   "outputs": [],
   "source": [
    "import numpy as np\n",
    "import pandas as pd\n",
    "import matplotlib.pyplot as plt\n",
    "import time\n",
    "%matplotlib inline"
   ]
  },
  {
   "cell_type": "markdown",
   "metadata": {},
   "source": [
    "### Load the data"
   ]
  },
  {
   "cell_type": "code",
   "execution_count": 2,
   "metadata": {},
   "outputs": [
    {
     "name": "stdout",
     "output_type": "stream",
     "text": [
      "CPU times: user 3min 56s, sys: 3min 12s, total: 7min 8s\n",
      "Wall time: 9min 52s\n"
     ]
    }
   ],
   "source": [
    "%%time\n",
    "data = pd.read_csv('mdma-pitch-20180328.dat.gz', compression='gzip', header=None)"
   ]
  },
  {
   "cell_type": "markdown",
   "metadata": {},
   "source": [
    "### Find the execution and cancellation order "
   ]
  },
  {
   "cell_type": "code",
   "execution_count": 3,
   "metadata": {},
   "outputs": [
    {
     "name": "stdout",
     "output_type": "stream",
     "text": [
      "CPU times: user 2min 44s, sys: 6min 29s, total: 9min 14s\n",
      "Wall time: 17min 17s\n"
     ]
    }
   ],
   "source": [
    "%%time\n",
    "d = data[0]\n",
    "order_e_loc = d.apply(lambda x: x[9] == 'E')\n",
    "order_e = d[order_e_loc]\n",
    "order_x_loc = d.apply(lambda x: x[9] == 'X')\n",
    "order_x = d[order_x_loc]"
   ]
  },
  {
   "cell_type": "markdown",
   "metadata": {},
   "source": [
    "### Find the add and hidden order for Amazon"
   ]
  },
  {
   "cell_type": "code",
   "execution_count": 4,
   "metadata": {},
   "outputs": [
    {
     "name": "stdout",
     "output_type": "stream",
     "text": [
      "CPU times: user 1min 55s, sys: 3min, total: 4min 55s\n",
      "Wall time: 8min 50s\n"
     ]
    }
   ],
   "source": [
    "%%time\n",
    "amzn_loc = d.apply(lambda x: x[29:35].strip() == 'MSFT')\n",
    "amzn = d[amzn_loc]"
   ]
  },
  {
   "cell_type": "code",
   "execution_count": 5,
   "metadata": {},
   "outputs": [
    {
     "name": "stdout",
     "output_type": "stream",
     "text": [
      "CPU times: user 1.97 s, sys: 2.02 s, total: 3.99 s\n",
      "Wall time: 5.32 s\n"
     ]
    }
   ],
   "source": [
    "%%time\n",
    "amzn_df = []\n",
    "amzn_idx = []\n",
    "for index, order in amzn.iteritems():\n",
    "    time = int(order[1:9])\n",
    "    order_type = order[9]\n",
    "    order_id = order[10:22]\n",
    "    if order_type == 'A':\n",
    "        side = order[22]\n",
    "    else:\n",
    "        side = None\n",
    "    size = int(order[23:29])\n",
    "    symbol = order[29:35].strip()\n",
    "    price = float(order[35:45])/10000\n",
    "    amzn_df.append({'time': time, 'order_id': order_id, 'symbol': symbol, 'order_size': size,\n",
    "                    'price': price, 'side':side, 'order_type': order_type})\n",
    "    amzn_idx.append(index)\n",
    "amzn_df = pd.DataFrame(amzn_df, index=amzn_idx)"
   ]
  },
  {
   "cell_type": "code",
   "execution_count": 6,
   "metadata": {},
   "outputs": [
    {
     "data": {
      "text/html": [
       "<div>\n",
       "<style scoped>\n",
       "    .dataframe tbody tr th:only-of-type {\n",
       "        vertical-align: middle;\n",
       "    }\n",
       "\n",
       "    .dataframe tbody tr th {\n",
       "        vertical-align: top;\n",
       "    }\n",
       "\n",
       "    .dataframe thead th {\n",
       "        text-align: right;\n",
       "    }\n",
       "</style>\n",
       "<table border=\"1\" class=\"dataframe\">\n",
       "  <thead>\n",
       "    <tr style=\"text-align: right;\">\n",
       "      <th></th>\n",
       "      <th>order_id</th>\n",
       "      <th>order_size</th>\n",
       "      <th>order_type</th>\n",
       "      <th>price</th>\n",
       "      <th>side</th>\n",
       "      <th>symbol</th>\n",
       "      <th>time</th>\n",
       "    </tr>\n",
       "  </thead>\n",
       "  <tbody>\n",
       "    <tr>\n",
       "      <th>93343</th>\n",
       "      <td>IT1KTC0000NB</td>\n",
       "      <td>10</td>\n",
       "      <td>A</td>\n",
       "      <td>90.20</td>\n",
       "      <td>S</td>\n",
       "      <td>MSFT</td>\n",
       "      <td>28262586</td>\n",
       "    </tr>\n",
       "    <tr>\n",
       "      <th>94035</th>\n",
       "      <td>IT1KTC0000NE</td>\n",
       "      <td>10</td>\n",
       "      <td>A</td>\n",
       "      <td>90.17</td>\n",
       "      <td>B</td>\n",
       "      <td>MSFT</td>\n",
       "      <td>28282188</td>\n",
       "    </tr>\n",
       "    <tr>\n",
       "      <th>94078</th>\n",
       "      <td>IT1KTC0000NF</td>\n",
       "      <td>10</td>\n",
       "      <td>A</td>\n",
       "      <td>90.20</td>\n",
       "      <td>S</td>\n",
       "      <td>MSFT</td>\n",
       "      <td>28283945</td>\n",
       "    </tr>\n",
       "    <tr>\n",
       "      <th>98132</th>\n",
       "      <td>IT1KTC0000OP</td>\n",
       "      <td>10</td>\n",
       "      <td>A</td>\n",
       "      <td>90.30</td>\n",
       "      <td>S</td>\n",
       "      <td>MSFT</td>\n",
       "      <td>28438929</td>\n",
       "    </tr>\n",
       "    <tr>\n",
       "      <th>103896</th>\n",
       "      <td>IT1KTC0000P4</td>\n",
       "      <td>10</td>\n",
       "      <td>A</td>\n",
       "      <td>90.23</td>\n",
       "      <td>S</td>\n",
       "      <td>MSFT</td>\n",
       "      <td>28630823</td>\n",
       "    </tr>\n",
       "  </tbody>\n",
       "</table>\n",
       "</div>"
      ],
      "text/plain": [
       "            order_id  order_size order_type  price side symbol      time\n",
       "93343   IT1KTC0000NB          10          A  90.20    S   MSFT  28262586\n",
       "94035   IT1KTC0000NE          10          A  90.17    B   MSFT  28282188\n",
       "94078   IT1KTC0000NF          10          A  90.20    S   MSFT  28283945\n",
       "98132   IT1KTC0000OP          10          A  90.30    S   MSFT  28438929\n",
       "103896  IT1KTC0000P4          10          A  90.23    S   MSFT  28630823"
      ]
     },
     "execution_count": 6,
     "metadata": {},
     "output_type": "execute_result"
    }
   ],
   "source": [
    "# The dataframe that include add and hidden order\n",
    "amzn_df.head()"
   ]
  },
  {
   "cell_type": "markdown",
   "metadata": {},
   "source": [
    "### Find the cancellation order for Amazon"
   ]
  },
  {
   "cell_type": "code",
   "execution_count": 7,
   "metadata": {},
   "outputs": [],
   "source": [
    "order_id_lst = amzn_df['order_id'].values"
   ]
  },
  {
   "cell_type": "code",
   "execution_count": 8,
   "metadata": {},
   "outputs": [
    {
     "name": "stdout",
     "output_type": "stream",
     "text": [
      "CPU times: user 3min 48s, sys: 3min 31s, total: 7min 19s\n",
      "Wall time: 10min 52s\n"
     ]
    }
   ],
   "source": [
    "%%time\n",
    "order_x_id = order_x.apply(lambda x: x[10:22])\n",
    "order_x_time = order_x.apply(lambda x: int(x[1:9]))\n",
    "order_x_size = order_x.apply(lambda x: int(x[22:28]))\n",
    "order_x_loc = order_x_id.isin(order_id_lst)\n",
    "\n",
    "amzn_x_id = order_x_id[order_x_loc]\n",
    "amzn_x_time = order_x_time[order_x_loc]\n",
    "amzn_x_size = order_x_size[order_x_loc]\n",
    "\n",
    "amzn_x = pd.DataFrame({'time': amzn_x_time, 'order_id': amzn_x_id, 'order_size': amzn_x_size})"
   ]
  },
  {
   "cell_type": "code",
   "execution_count": 9,
   "metadata": {},
   "outputs": [],
   "source": [
    "def find_x_price(x_order):\n",
    "    return amzn_df.loc[(amzn_df['order_id']==x_order['order_id']) & (amzn_df.index < x_order.name), 'price'].iloc[-1]"
   ]
  },
  {
   "cell_type": "code",
   "execution_count": 10,
   "metadata": {},
   "outputs": [
    {
     "name": "stdout",
     "output_type": "stream",
     "text": [
      "CPU times: user 1h 47min 37s, sys: 14.5 s, total: 1h 47min 52s\n",
      "Wall time: 1h 48min 10s\n"
     ]
    }
   ],
   "source": [
    "%%time\n",
    "amzn_x_price = amzn_x.apply(find_x_price, axis = 1)"
   ]
  },
  {
   "cell_type": "code",
   "execution_count": 11,
   "metadata": {},
   "outputs": [],
   "source": [
    "amzn_x['price'] = amzn_x_price\n",
    "amzn_x['symbol'] = 'MSFT'\n",
    "amzn_x['side'] = None\n",
    "amzn_x['order_type'] = 'X'"
   ]
  },
  {
   "cell_type": "markdown",
   "metadata": {},
   "source": [
    "### Find the execution order for Amazon"
   ]
  },
  {
   "cell_type": "code",
   "execution_count": 12,
   "metadata": {},
   "outputs": [
    {
     "name": "stdout",
     "output_type": "stream",
     "text": [
      "CPU times: user 22.9 s, sys: 1min 46s, total: 2min 9s\n",
      "Wall time: 4min 34s\n"
     ]
    }
   ],
   "source": [
    "%%time\n",
    "order_e_id = order_e.apply(lambda x: x[10:22])\n",
    "order_e_time = order_e.apply(lambda x: int(x[1:9]))\n",
    "order_e_size = order_e.apply(lambda x: int(x[22:28]))\n",
    "\n",
    "order_e_loc = order_e_id.isin(order_id_lst)\n",
    "amzn_e_id = order_e_id[order_e_loc]\n",
    "amzn_e_time = order_e_time[order_e_loc]\n",
    "amzn_e_size = order_e_size[order_e_loc]\n",
    "\n",
    "amzn_e = pd.DataFrame({'time': amzn_e_time, 'order_id': amzn_e_id, 'order_size': amzn_e_size})"
   ]
  },
  {
   "cell_type": "code",
   "execution_count": 13,
   "metadata": {},
   "outputs": [],
   "source": [
    "def find_e_price(e_order):\n",
    "    return amzn_df.loc[(amzn_df['order_id']==e_order['order_id']) & (amzn_df.index < e_order.name), 'price'].iloc[-1]"
   ]
  },
  {
   "cell_type": "code",
   "execution_count": 14,
   "metadata": {},
   "outputs": [
    {
     "name": "stdout",
     "output_type": "stream",
     "text": [
      "CPU times: user 1min 59s, sys: 495 ms, total: 2min\n",
      "Wall time: 2min 1s\n"
     ]
    }
   ],
   "source": [
    "%%time\n",
    "amzn_e_price = amzn_e.apply(find_e_price, axis = 1)"
   ]
  },
  {
   "cell_type": "code",
   "execution_count": 15,
   "metadata": {},
   "outputs": [],
   "source": [
    "amzn_e['price'] = amzn_e_price\n",
    "amzn_e['symbol'] = 'MSFT'\n",
    "amzn_e['side'] = None\n",
    "amzn_e['order_type'] = 'E'"
   ]
  },
  {
   "cell_type": "markdown",
   "metadata": {},
   "source": [
    "## Structured Limit Order Book for AMZN"
   ]
  },
  {
   "cell_type": "code",
   "execution_count": 16,
   "metadata": {},
   "outputs": [
    {
     "name": "stderr",
     "output_type": "stream",
     "text": [
      "/Users/lihuadong/anaconda3/lib/python3.6/site-packages/ipykernel_launcher.py:1: FutureWarning: Sorting because non-concatenation axis is not aligned. A future version\n",
      "of pandas will change to not sort by default.\n",
      "\n",
      "To accept the future behavior, pass 'sort=False'.\n",
      "\n",
      "To retain the current behavior and silence the warning, pass 'sort=True'.\n",
      "\n",
      "  \"\"\"Entry point for launching an IPython kernel.\n"
     ]
    }
   ],
   "source": [
    "amzn_final = pd.concat([amzn_df, amzn_e, amzn_x], axis = 0)"
   ]
  },
  {
   "cell_type": "code",
   "execution_count": 17,
   "metadata": {},
   "outputs": [],
   "source": [
    "def standard_time(time):\n",
    "    hours, milliseconds = divmod(time, 3600000)\n",
    "    minutes, milliseconds = divmod(milliseconds, 60000)\n",
    "    seconds = float(milliseconds) / 1000\n",
    "    return \"%i:%02i:%06.3f\" % (hours, minutes, seconds)"
   ]
  },
  {
   "cell_type": "code",
   "execution_count": 18,
   "metadata": {},
   "outputs": [],
   "source": [
    "amzn_final.sort_index(inplace = True)"
   ]
  },
  {
   "cell_type": "code",
   "execution_count": 19,
   "metadata": {},
   "outputs": [
    {
     "data": {
      "text/html": [
       "<div>\n",
       "<style scoped>\n",
       "    .dataframe tbody tr th:only-of-type {\n",
       "        vertical-align: middle;\n",
       "    }\n",
       "\n",
       "    .dataframe tbody tr th {\n",
       "        vertical-align: top;\n",
       "    }\n",
       "\n",
       "    .dataframe thead th {\n",
       "        text-align: right;\n",
       "    }\n",
       "</style>\n",
       "<table border=\"1\" class=\"dataframe\">\n",
       "  <thead>\n",
       "    <tr style=\"text-align: right;\">\n",
       "      <th></th>\n",
       "      <th>order_id</th>\n",
       "      <th>order_size</th>\n",
       "      <th>order_type</th>\n",
       "      <th>price</th>\n",
       "      <th>side</th>\n",
       "      <th>symbol</th>\n",
       "      <th>time</th>\n",
       "      <th>standard_time</th>\n",
       "    </tr>\n",
       "  </thead>\n",
       "  <tbody>\n",
       "    <tr>\n",
       "      <th>93343</th>\n",
       "      <td>IT1KTC0000NB</td>\n",
       "      <td>10</td>\n",
       "      <td>A</td>\n",
       "      <td>90.20</td>\n",
       "      <td>S</td>\n",
       "      <td>MSFT</td>\n",
       "      <td>28262586</td>\n",
       "      <td>7:51:02.586</td>\n",
       "    </tr>\n",
       "    <tr>\n",
       "      <th>93344</th>\n",
       "      <td>IT1KTC0000NB</td>\n",
       "      <td>10</td>\n",
       "      <td>X</td>\n",
       "      <td>90.20</td>\n",
       "      <td>None</td>\n",
       "      <td>MSFT</td>\n",
       "      <td>28262586</td>\n",
       "      <td>7:51:02.586</td>\n",
       "    </tr>\n",
       "    <tr>\n",
       "      <th>94035</th>\n",
       "      <td>IT1KTC0000NE</td>\n",
       "      <td>10</td>\n",
       "      <td>A</td>\n",
       "      <td>90.17</td>\n",
       "      <td>B</td>\n",
       "      <td>MSFT</td>\n",
       "      <td>28282188</td>\n",
       "      <td>7:51:22.188</td>\n",
       "    </tr>\n",
       "    <tr>\n",
       "      <th>94036</th>\n",
       "      <td>IT1KTC0000NE</td>\n",
       "      <td>10</td>\n",
       "      <td>X</td>\n",
       "      <td>90.17</td>\n",
       "      <td>None</td>\n",
       "      <td>MSFT</td>\n",
       "      <td>28282188</td>\n",
       "      <td>7:51:22.188</td>\n",
       "    </tr>\n",
       "    <tr>\n",
       "      <th>94078</th>\n",
       "      <td>IT1KTC0000NF</td>\n",
       "      <td>10</td>\n",
       "      <td>A</td>\n",
       "      <td>90.20</td>\n",
       "      <td>S</td>\n",
       "      <td>MSFT</td>\n",
       "      <td>28283945</td>\n",
       "      <td>7:51:23.945</td>\n",
       "    </tr>\n",
       "  </tbody>\n",
       "</table>\n",
       "</div>"
      ],
      "text/plain": [
       "           order_id  order_size order_type  price  side symbol      time  \\\n",
       "93343  IT1KTC0000NB          10          A  90.20     S   MSFT  28262586   \n",
       "93344  IT1KTC0000NB          10          X  90.20  None   MSFT  28262586   \n",
       "94035  IT1KTC0000NE          10          A  90.17     B   MSFT  28282188   \n",
       "94036  IT1KTC0000NE          10          X  90.17  None   MSFT  28282188   \n",
       "94078  IT1KTC0000NF          10          A  90.20     S   MSFT  28283945   \n",
       "\n",
       "      standard_time  \n",
       "93343   7:51:02.586  \n",
       "93344   7:51:02.586  \n",
       "94035   7:51:22.188  \n",
       "94036   7:51:22.188  \n",
       "94078   7:51:23.945  "
      ]
     },
     "execution_count": 19,
     "metadata": {},
     "output_type": "execute_result"
    }
   ],
   "source": [
    "amzn_final['standard_time'] = amzn_final['time'].apply(standard_time)\n",
    "amzn_final.head()"
   ]
  },
  {
   "cell_type": "code",
   "execution_count": 21,
   "metadata": {},
   "outputs": [],
   "source": [
    "amzn_final.to_csv('msft.csv')"
   ]
  },
  {
   "cell_type": "markdown",
   "metadata": {},
   "source": [
    "## Find the best bid and best ask"
   ]
  },
  {
   "cell_type": "code",
   "execution_count": 22,
   "metadata": {},
   "outputs": [
    {
     "name": "stdout",
     "output_type": "stream",
     "text": [
      "CPU times: user 1min 7s, sys: 381 ms, total: 1min 8s\n",
      "Wall time: 1min 10s\n"
     ]
    }
   ],
   "source": [
    "%%time\n",
    "bid_price = []\n",
    "bid_id = []\n",
    "bid_size = []\n",
    "ask_price = []\n",
    "ask_id = []\n",
    "ask_size = []\n",
    "best_bid = pd.Series(index = amzn_final.index)\n",
    "best_ask = pd.Series(index = amzn_final.index)\n",
    "\n",
    "for idx, order in amzn_final.iterrows():\n",
    "    \n",
    "    order_type = order['order_type']\n",
    "    order_id = order['order_id']\n",
    "    price = order['price']\n",
    "    size = order['order_size']\n",
    "    \n",
    "    if order_type == 'A':\n",
    "        \n",
    "        if order['side'] == 'B':\n",
    "            bid_price.append(price)\n",
    "            bid_id.append(order_id)\n",
    "            bid_size.append(size)\n",
    "        elif order['side'] == 'S':\n",
    "            ask_price.append(price)\n",
    "            ask_id.append(order_id)\n",
    "            ask_size.append(size)\n",
    "    \n",
    "    elif order_type == 'E' or order_type == 'X':\n",
    "        \n",
    "        try:\n",
    "            index = bid_id.index(order_id)\n",
    "            side = 1\n",
    "        except ValueError:\n",
    "            index = ask_id.index(order_id)\n",
    "            side = 0\n",
    "            \n",
    "        if side == 1:\n",
    "            bid_size[index] -= size\n",
    "            if bid_size[index] == 0:\n",
    "                bid_price.pop(index)\n",
    "                bid_id.pop(index)\n",
    "                bid_size.pop(index) \n",
    "        else:\n",
    "            ask_size[index] -= size\n",
    "            if ask_size[index] == 0:\n",
    "                ask_price.pop(index)\n",
    "                ask_id.pop(index)\n",
    "                ask_size.pop(index)\n",
    "    \n",
    "    if bid_price:\n",
    "        best_bid[idx] = max(bid_price)\n",
    "    \n",
    "    if ask_price:\n",
    "        best_ask[idx] = min(ask_price)\n",
    "        "
   ]
  },
  {
   "cell_type": "markdown",
   "metadata": {},
   "source": [
    "## Plot best bid and best ask"
   ]
  },
  {
   "cell_type": "code",
   "execution_count": 23,
   "metadata": {},
   "outputs": [
    {
     "name": "stdout",
     "output_type": "stream",
     "text": [
      "CPU times: user 3.61 s, sys: 1.05 s, total: 4.66 s\n",
      "Wall time: 6.39 s\n"
     ]
    }
   ],
   "source": [
    "%%time\n",
    "order_time = amzn_final['standard_time'].apply(lambda x: x[:-7])\n",
    "time_range = pd.date_range(order_time.iloc[0], order_time.iloc[-1], freq='1min').time\n",
    "order_time = pd.to_datetime(order_time, format='%H:%M').apply(lambda x: x.time())\n",
    "\n",
    "best_bid_ask = pd.DataFrame({'time': order_time, 'best_bid': best_bid, 'best_ask': best_ask})\n",
    "best_bid_ask = best_bid_ask.groupby('time').last().fillna(-1)\n",
    "\n",
    "best_bid_ask_df = pd.DataFrame(index = time_range, columns=['best_bid', 'best_ask'])\n",
    "best_bid_ask_df.loc[best_bid_ask.index, 'best_bid'] = best_bid_ask['best_bid']\n",
    "best_bid_ask_df.loc[best_bid_ask.index, 'best_ask'] = best_bid_ask['best_ask']\n",
    "best_bid_ask_df = best_bid_ask_df.fillna(method = 'ffill').replace(-1, np.nan)"
   ]
  },
  {
   "cell_type": "code",
   "execution_count": 24,
   "metadata": {},
   "outputs": [
    {
     "data": {
      "text/plain": [
       "(array([84., 86., 88., 90., 92., 94., 96.]),\n",
       " <a list of 7 Text yticklabel objects>)"
      ]
     },
     "execution_count": 24,
     "metadata": {},
     "output_type": "execute_result"
    },
    {
     "data": {
      "image/png": "[encoded data removed]",
      "text/plain": [
       "<Figure size 1440x432 with 1 Axes>"
      ]
     },
     "metadata": {},
     "output_type": "display_data"
    }
   ],
   "source": [
    "best_bid_ask_df.plot(figsize=(20,6), color = ['g', 'r'])\n",
    "plt.legend(fontsize=16)\n",
    "plt.xlabel('time', fontsize=16)\n",
    "plt.ylabel('price', fontsize=16)\n",
    "plt.xticks(fontsize=14)\n",
    "plt.yticks(fontsize=14)"
   ]
  },
  {
   "cell_type": "markdown",
   "metadata": {},
   "source": [
    "## Average and standard deviation of best bid, best ask and trade price"
   ]
  },
  {
   "cell_type": "code",
   "execution_count": 23,
   "metadata": {},
   "outputs": [
    {
     "name": "stdout",
     "output_type": "stream",
     "text": [
      "The average of best bid is  1391.8752834409936\n",
      "The standard deviation of best bid is  25.891702803585986\n"
     ]
    }
   ],
   "source": [
    "delta_t = -amzn_final['time'].diff(-1)\n",
    "best_bid_df = pd.DataFrame({'delta_t': delta_t, 'best_bid': best_bid}).dropna()\n",
    "bid_mean = np.sum(best_bid_df['delta_t'] * best_bid_df['best_bid']) / np.sum(best_bid_df['delta_t'])\n",
    "bid_std = np.sqrt(np.sum((best_bid_df['best_bid'] - bid_mean)**2 * best_bid_df['delta_t']) / np.sum(best_bid_df['delta_t']))\n",
    "print(\"The average of best bid is \", bid_mean)\n",
    "print(\"The standard deviation of best bid is \", bid_std)"
   ]
  },
  {
   "cell_type": "code",
   "execution_count": 24,
   "metadata": {},
   "outputs": [
    {
     "name": "stdout",
     "output_type": "stream",
     "text": [
      "The average of best ask is  1461.037641765869\n",
      "The standard deviation of best ask is  82.32953707871299\n"
     ]
    }
   ],
   "source": [
    "best_ask_df = pd.DataFrame({'delta_t': delta_t, 'best_bid': best_ask}).dropna()\n",
    "ask_mean = np.sum(best_ask_df['delta_t'] * best_ask_df['best_bid']) / np.sum(best_ask_df['delta_t'])\n",
    "ask_std = np.sqrt(np.sum((best_ask_df['best_bid'] - bid_mean)**2 * best_ask_df['delta_t']) / np.sum(best_ask_df['delta_t']))\n",
    "print(\"The average of best ask is \", ask_mean)\n",
    "print(\"The standard deviation of best ask is \", ask_std)"
   ]
  },
  {
   "cell_type": "code",
   "execution_count": 25,
   "metadata": {},
   "outputs": [],
   "source": [
    "bid = amzn_final.loc[amzn_final['side'] == 'B', :]\n",
    "ask = amzn_final.loc[amzn_final['side'] == 'S', :]\n",
    "trade = amzn_final.loc[amzn_final['order_type'].isin(['P', 'E']), :]"
   ]
  },
  {
   "cell_type": "code",
   "execution_count": 26,
   "metadata": {},
   "outputs": [
    {
     "name": "stdout",
     "output_type": "stream",
     "text": [
      "The average of trade price is  1426.3550487489845\n",
      "The standard deviation of trade price is  14.515818492596793\n"
     ]
    }
   ],
   "source": [
    "trade_mean = np.sum(trade['price'] * trade['order_size']) / np.sum(trade['order_size'])\n",
    "trade_std = np.sqrt(np.sum((trade['price']-trade_mean)**2 * trade['order_size']) / np.sum(trade['order_size']))\n",
    "print(\"The average of trade price is \", trade_mean)\n",
    "print(\"The standard deviation of trade price is \", trade_std)"
   ]
  },
  {
   "cell_type": "markdown",
   "metadata": {},
   "source": [
    "## Number of quotes for bid, ask and execution"
   ]
  },
  {
   "cell_type": "code",
   "execution_count": 27,
   "metadata": {},
   "outputs": [
    {
     "name": "stdout",
     "output_type": "stream",
     "text": [
      "The number of quotes for bid is  23865\n",
      "The number of quotes for ask is  40481\n",
      "The number of quotes for execution is  7828\n"
     ]
    }
   ],
   "source": [
    "bid_num = len(bid)\n",
    "ask_num = len(ask)\n",
    "trade_num = len(trade)\n",
    "print(\"The number of quotes for bid is \", bid_num)\n",
    "print(\"The number of quotes for ask is \", ask_num)\n",
    "print(\"The number of quotes for execution is \", trade_num)"
   ]
  },
  {
   "cell_type": "markdown",
   "metadata": {},
   "source": [
    "## Order size distribution"
   ]
  },
  {
   "cell_type": "code",
   "execution_count": 28,
   "metadata": {},
   "outputs": [
    {
     "data": {
      "text/html": [
       "<div>\n",
       "<style scoped>\n",
       "    .dataframe tbody tr th:only-of-type {\n",
       "        vertical-align: middle;\n",
       "    }\n",
       "\n",
       "    .dataframe tbody tr th {\n",
       "        vertical-align: top;\n",
       "    }\n",
       "\n",
       "    .dataframe thead th {\n",
       "        text-align: right;\n",
       "    }\n",
       "</style>\n",
       "<table border=\"1\" class=\"dataframe\">\n",
       "  <thead>\n",
       "    <tr style=\"text-align: right;\">\n",
       "      <th></th>\n",
       "      <th>A</th>\n",
       "      <th>E</th>\n",
       "      <th>P</th>\n",
       "      <th>X</th>\n",
       "    </tr>\n",
       "  </thead>\n",
       "  <tbody>\n",
       "    <tr>\n",
       "      <th>count</th>\n",
       "      <td>64346.00</td>\n",
       "      <td>709.00</td>\n",
       "      <td>7119.00</td>\n",
       "      <td>78620.00</td>\n",
       "    </tr>\n",
       "    <tr>\n",
       "      <th>mean</th>\n",
       "      <td>44.46</td>\n",
       "      <td>48.64</td>\n",
       "      <td>25.93</td>\n",
       "      <td>35.95</td>\n",
       "    </tr>\n",
       "    <tr>\n",
       "      <th>std</th>\n",
       "      <td>38.47</td>\n",
       "      <td>40.51</td>\n",
       "      <td>38.50</td>\n",
       "      <td>37.96</td>\n",
       "    </tr>\n",
       "    <tr>\n",
       "      <th>min</th>\n",
       "      <td>1.00</td>\n",
       "      <td>1.00</td>\n",
       "      <td>1.00</td>\n",
       "      <td>1.00</td>\n",
       "    </tr>\n",
       "    <tr>\n",
       "      <th>25%</th>\n",
       "      <td>6.00</td>\n",
       "      <td>9.00</td>\n",
       "      <td>2.00</td>\n",
       "      <td>3.00</td>\n",
       "    </tr>\n",
       "    <tr>\n",
       "      <th>50%</th>\n",
       "      <td>36.00</td>\n",
       "      <td>40.00</td>\n",
       "      <td>5.00</td>\n",
       "      <td>21.00</td>\n",
       "    </tr>\n",
       "    <tr>\n",
       "      <th>75%</th>\n",
       "      <td>99.00</td>\n",
       "      <td>98.00</td>\n",
       "      <td>25.00</td>\n",
       "      <td>67.00</td>\n",
       "    </tr>\n",
       "    <tr>\n",
       "      <th>max</th>\n",
       "      <td>300.00</td>\n",
       "      <td>210.00</td>\n",
       "      <td>600.00</td>\n",
       "      <td>300.00</td>\n",
       "    </tr>\n",
       "  </tbody>\n",
       "</table>\n",
       "</div>"
      ],
      "text/plain": [
       "              A       E        P         X\n",
       "count  64346.00  709.00  7119.00  78620.00\n",
       "mean      44.46   48.64    25.93     35.95\n",
       "std       38.47   40.51    38.50     37.96\n",
       "min        1.00    1.00     1.00      1.00\n",
       "25%        6.00    9.00     2.00      3.00\n",
       "50%       36.00   40.00     5.00     21.00\n",
       "75%       99.00   98.00    25.00     67.00\n",
       "max      300.00  210.00   600.00    300.00"
      ]
     },
     "execution_count": 28,
     "metadata": {},
     "output_type": "execute_result"
    }
   ],
   "source": [
    "add = amzn_final.loc[amzn_final['order_type'].isin(['A']), 'order_size']\n",
    "cancel = amzn_final.loc[amzn_final['order_type'].isin(['X']), 'order_size']\n",
    "hidden = amzn_final.loc[amzn_final['order_type'].isin(['P']), 'order_size']\n",
    "execution = amzn_final.loc[amzn_final['order_type'].isin(['E']), 'order_size']\n",
    "\n",
    "size_dist = pd.DataFrame({'A': add.describe(), 'E': execution.describe(), \n",
    "                          'P': hidden.describe(), 'X': cancel.describe()}).round(2)\n",
    "size_dist"
   ]
  },
  {
   "cell_type": "markdown",
   "metadata": {},
   "source": [
    "## Distribution of time between order updated"
   ]
  },
  {
   "cell_type": "code",
   "execution_count": 29,
   "metadata": {},
   "outputs": [],
   "source": [
    "order_index = amzn_final.index\n",
    "def last_time(order):\n",
    "    last_order_time = amzn_final.loc[(amzn_final['order_id']==order['order_id']) & (order_index < order.name), 'time']\n",
    "    return last_order_time.iloc[-1]"
   ]
  },
  {
   "cell_type": "code",
   "execution_count": 30,
   "metadata": {},
   "outputs": [
    {
     "name": "stdout",
     "output_type": "stream",
     "text": [
      "CPU times: user 19min 49s, sys: 3.23 s, total: 19min 52s\n",
      "Wall time: 19min 57s\n"
     ]
    }
   ],
   "source": [
    "%%time\n",
    "cancel = amzn_final.loc[amzn_final['order_type'].isin(['X']), ['order_id', 'time', 'order_type']]\n",
    "last_cancel_time = cancel.apply(last_time, axis = 1)"
   ]
  },
  {
   "cell_type": "code",
   "execution_count": 31,
   "metadata": {},
   "outputs": [
    {
     "name": "stdout",
     "output_type": "stream",
     "text": [
      "CPU times: user 12.3 s, sys: 547 ms, total: 12.8 s\n",
      "Wall time: 14 s\n"
     ]
    }
   ],
   "source": [
    "%%time\n",
    "execution = amzn_final.loc[amzn_final['order_type'].isin(['E']), ['order_id', 'time', 'order_type']]\n",
    "last_e_time = execution.apply(last_time, axis = 1)"
   ]
  },
  {
   "cell_type": "code",
   "execution_count": 32,
   "metadata": {},
   "outputs": [],
   "source": [
    "x_time = cancel['time'] - last_cancel_time\n",
    "e_time = execution['time'] - last_e_time"
   ]
  },
  {
   "cell_type": "code",
   "execution_count": 33,
   "metadata": {},
   "outputs": [],
   "source": [
    "time_dist = pd.DataFrame({'E': e_time.describe(), 'X': x_time.describe()}).round(2)\n",
    "time_dist['A'] = 0\n",
    "time_dist['P'] = 0"
   ]
  },
  {
   "cell_type": "code",
   "execution_count": 35,
   "metadata": {},
   "outputs": [
    {
     "data": {
      "text/html": [
       "<div>\n",
       "<style scoped>\n",
       "    .dataframe tbody tr th:only-of-type {\n",
       "        vertical-align: middle;\n",
       "    }\n",
       "\n",
       "    .dataframe tbody tr th {\n",
       "        vertical-align: top;\n",
       "    }\n",
       "\n",
       "    .dataframe thead th {\n",
       "        text-align: right;\n",
       "    }\n",
       "</style>\n",
       "<table border=\"1\" class=\"dataframe\">\n",
       "  <thead>\n",
       "    <tr style=\"text-align: right;\">\n",
       "      <th></th>\n",
       "      <th>E</th>\n",
       "      <th>X</th>\n",
       "      <th>A</th>\n",
       "      <th>P</th>\n",
       "    </tr>\n",
       "  </thead>\n",
       "  <tbody>\n",
       "    <tr>\n",
       "      <th>count</th>\n",
       "      <td>709.00</td>\n",
       "      <td>78620.00</td>\n",
       "      <td>0</td>\n",
       "      <td>0</td>\n",
       "    </tr>\n",
       "    <tr>\n",
       "      <th>mean</th>\n",
       "      <td>4409.83</td>\n",
       "      <td>5512.19</td>\n",
       "      <td>0</td>\n",
       "      <td>0</td>\n",
       "    </tr>\n",
       "    <tr>\n",
       "      <th>std</th>\n",
       "      <td>31719.56</td>\n",
       "      <td>160294.72</td>\n",
       "      <td>0</td>\n",
       "      <td>0</td>\n",
       "    </tr>\n",
       "    <tr>\n",
       "      <th>min</th>\n",
       "      <td>0.00</td>\n",
       "      <td>0.00</td>\n",
       "      <td>0</td>\n",
       "      <td>0</td>\n",
       "    </tr>\n",
       "    <tr>\n",
       "      <th>25%</th>\n",
       "      <td>0.00</td>\n",
       "      <td>30.00</td>\n",
       "      <td>0</td>\n",
       "      <td>0</td>\n",
       "    </tr>\n",
       "    <tr>\n",
       "      <th>50%</th>\n",
       "      <td>186.00</td>\n",
       "      <td>138.00</td>\n",
       "      <td>0</td>\n",
       "      <td>0</td>\n",
       "    </tr>\n",
       "    <tr>\n",
       "      <th>75%</th>\n",
       "      <td>1288.00</td>\n",
       "      <td>394.00</td>\n",
       "      <td>0</td>\n",
       "      <td>0</td>\n",
       "    </tr>\n",
       "    <tr>\n",
       "      <th>max</th>\n",
       "      <td>550295.00</td>\n",
       "      <td>23399076.00</td>\n",
       "      <td>0</td>\n",
       "      <td>0</td>\n",
       "    </tr>\n",
       "  </tbody>\n",
       "</table>\n",
       "</div>"
      ],
      "text/plain": [
       "               E            X  A  P\n",
       "count     709.00     78620.00  0  0\n",
       "mean     4409.83      5512.19  0  0\n",
       "std     31719.56    160294.72  0  0\n",
       "min         0.00         0.00  0  0\n",
       "25%         0.00        30.00  0  0\n",
       "50%       186.00       138.00  0  0\n",
       "75%      1288.00       394.00  0  0\n",
       "max    550295.00  23399076.00  0  0"
      ]
     },
     "execution_count": 35,
     "metadata": {},
     "output_type": "execute_result"
    }
   ],
   "source": [
    "time_dist"
   ]
  },
  {
   "cell_type": "code",
   "execution_count": null,
   "metadata": {},
   "outputs": [],
   "source": []
  }
 ],
 "metadata": {
  "kernelspec": {
   "display_name": "Python 3",
   "language": "python",
   "name": "python3"
  },
  "language_info": {
   "codemirror_mode": {
    "name": "ipython",
    "version": 3
   },
   "file_extension": ".py",
   "mimetype": "text/x-python",
   "name": "python",
   "nbconvert_exporter": "python",
   "pygments_lexer": "ipython3",
   "version": "3.6.5"
  }
 },
 "nbformat": 4,
 "nbformat_minor": 2
}
